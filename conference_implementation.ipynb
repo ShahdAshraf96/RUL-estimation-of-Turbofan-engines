{
 "cells": [
  {
   "cell_type": "code",
   "execution_count": 1,
   "id": "ff6eba71-55fb-4352-9d2c-cc7ede0da3a3",
   "metadata": {
    "tags": []
   },
   "outputs": [
    {
     "name": "stderr",
     "output_type": "stream",
     "text": [
      "Using TensorFlow backend.\n"
     ]
    }
   ],
   "source": [
    "import os\n",
    "import numpy as np\n",
    "import pandas as pd\n",
    "from sklearn.decomposition import PCA\n",
    "from sklearn.preprocessing import StandardScaler, MinMaxScaler\n",
    "from sklearn.model_selection import train_test_split, GridSearchCV\n",
    "from sklearn.linear_model import LinearRegression\n",
    "from tensorflow.keras.layers import LSTM, Dense\n",
    "from keras.models import Sequential\n",
    "from keras.layers import Dense\n",
    "from keras.optimizers import Adam\n",
    "import matplotlib.pyplot as plt\n",
    "import seaborn as sns"
   ]
  },
  {
   "cell_type": "markdown",
   "id": "860c9abc-9bdd-4150-8772-87aebe014806",
   "metadata": {
    "tags": []
   },
   "source": [
    "# Load data"
   ]
  },
  {
   "cell_type": "code",
   "execution_count": null,
   "id": "e0166e42-616e-4356-ad8f-8994e0ede060",
   "metadata": {},
   "outputs": [],
   "source": [
    "\n",
    "\n",
    "train_dataset_path = os.path.join('data/', f'train_FD001.txt')\n",
    "train_data = pd.read_csv(train_dataset_path, delimiter='\\s+', header=None)\n",
    "\n",
    "\n",
    "test_dataset_path = os.path.join('data/',  f'test_FD001.txt')\n",
    "test_data = pd.read_csv(test_dataset_path, delimiter='\\s+', header=None)\n",
    "\n",
    "\n",
    "rul_dataset_path = os.path.join('data/', f'RUL_FD001.txt')\n",
    "rul_data = pd.read_csv(rul_dataset_path, delimiter='\\s+', header=None)"
   ]
  },
  {
   "cell_type": "code",
   "execution_count": 3,
   "id": "a2971ae9-aa3c-44fe-9419-575d327377d8",
   "metadata": {},
   "outputs": [],
   "source": [
    "columns_train = ['Engine_ID','cycle','setting_1','setting_2','setting_3','S1','S2','S3','S4','S5','S6','S7','S8',\n",
    "           'S9','S10','S11','S12','S13','S14','S15','S16','S17','S18','S19','S20','S21' ]\n",
    "train_data.columns = columns_train"
   ]
  },
  {
   "cell_type": "markdown",
   "id": "32e6d8dc-2f9a-48b8-bceb-353e5c71e28a",
   "metadata": {
    "tags": []
   },
   "source": [
    "# pre-processing"
   ]
  },
  {
   "cell_type": "code",
   "execution_count": null,
   "id": "20a0c005-31ea-44ee-a415-3443f00ee340",
   "metadata": {},
   "outputs": [],
   "source": [
    "# feature extraction\n",
    "#choose Sensors that have monotonic trend\n",
    "sensor_indices = [6, 7, 8, 11, 15, 16, 19, 24, 25]\n",
    "sensor_data = train_data.iloc[:, sensor_indices].values"
   ]
  },
  {
   "cell_type": "code",
   "execution_count": null,
   "id": "fefeb73c-7c5c-401e-80b8-0e61b35e7cbf",
   "metadata": {},
   "outputs": [],
   "source": [
    "# Normalize each sensor\n",
    "scaler = MinMaxScaler(feature_range=(0, 1))\n",
    "sensor_data_scaled = scaler.fit_transform(sensor_data)"
   ]
  },
  {
   "cell_type": "code",
   "execution_count": 6,
   "id": "25c52d34-de91-4a41-98bf-e7d25dc80373",
   "metadata": {
    "tags": []
   },
   "outputs": [
    {
     "data": {
      "text/html": [
       "<div>\n",
       "<style scoped>\n",
       "    .dataframe tbody tr th:only-of-type {\n",
       "        vertical-align: middle;\n",
       "    }\n",
       "\n",
       "    .dataframe tbody tr th {\n",
       "        vertical-align: top;\n",
       "    }\n",
       "\n",
       "    .dataframe thead th {\n",
       "        text-align: right;\n",
       "    }\n",
       "</style>\n",
       "<table border=\"1\" class=\"dataframe\">\n",
       "  <thead>\n",
       "    <tr style=\"text-align: right;\">\n",
       "      <th></th>\n",
       "      <th>0</th>\n",
       "      <th>1</th>\n",
       "      <th>2</th>\n",
       "      <th>3</th>\n",
       "      <th>4</th>\n",
       "      <th>5</th>\n",
       "      <th>6</th>\n",
       "      <th>7</th>\n",
       "      <th>8</th>\n",
       "    </tr>\n",
       "  </thead>\n",
       "  <tbody>\n",
       "    <tr>\n",
       "      <th>0</th>\n",
       "      <td>0.183735</td>\n",
       "      <td>0.406802</td>\n",
       "      <td>0.309757</td>\n",
       "      <td>0.726248</td>\n",
       "      <td>0.369048</td>\n",
       "      <td>0.633262</td>\n",
       "      <td>0.363986</td>\n",
       "      <td>0.713178</td>\n",
       "      <td>0.724662</td>\n",
       "    </tr>\n",
       "    <tr>\n",
       "      <th>1</th>\n",
       "      <td>0.283133</td>\n",
       "      <td>0.453019</td>\n",
       "      <td>0.352633</td>\n",
       "      <td>0.628019</td>\n",
       "      <td>0.380952</td>\n",
       "      <td>0.765458</td>\n",
       "      <td>0.411312</td>\n",
       "      <td>0.666667</td>\n",
       "      <td>0.731014</td>\n",
       "    </tr>\n",
       "    <tr>\n",
       "      <th>2</th>\n",
       "      <td>0.343373</td>\n",
       "      <td>0.369523</td>\n",
       "      <td>0.370527</td>\n",
       "      <td>0.710145</td>\n",
       "      <td>0.250000</td>\n",
       "      <td>0.795309</td>\n",
       "      <td>0.357445</td>\n",
       "      <td>0.627907</td>\n",
       "      <td>0.621375</td>\n",
       "    </tr>\n",
       "    <tr>\n",
       "      <th>3</th>\n",
       "      <td>0.343373</td>\n",
       "      <td>0.256159</td>\n",
       "      <td>0.331195</td>\n",
       "      <td>0.740741</td>\n",
       "      <td>0.166667</td>\n",
       "      <td>0.889126</td>\n",
       "      <td>0.166603</td>\n",
       "      <td>0.573643</td>\n",
       "      <td>0.662386</td>\n",
       "    </tr>\n",
       "    <tr>\n",
       "      <th>4</th>\n",
       "      <td>0.349398</td>\n",
       "      <td>0.257467</td>\n",
       "      <td>0.404625</td>\n",
       "      <td>0.668277</td>\n",
       "      <td>0.255952</td>\n",
       "      <td>0.746269</td>\n",
       "      <td>0.402078</td>\n",
       "      <td>0.589147</td>\n",
       "      <td>0.704502</td>\n",
       "    </tr>\n",
       "    <tr>\n",
       "      <th>...</th>\n",
       "      <td>...</td>\n",
       "      <td>...</td>\n",
       "      <td>...</td>\n",
       "      <td>...</td>\n",
       "      <td>...</td>\n",
       "      <td>...</td>\n",
       "      <td>...</td>\n",
       "      <td>...</td>\n",
       "      <td>...</td>\n",
       "    </tr>\n",
       "    <tr>\n",
       "      <th>20626</th>\n",
       "      <td>0.686747</td>\n",
       "      <td>0.587312</td>\n",
       "      <td>0.782917</td>\n",
       "      <td>0.254428</td>\n",
       "      <td>0.726190</td>\n",
       "      <td>0.170576</td>\n",
       "      <td>0.656791</td>\n",
       "      <td>0.271318</td>\n",
       "      <td>0.109500</td>\n",
       "    </tr>\n",
       "    <tr>\n",
       "      <th>20627</th>\n",
       "      <td>0.701807</td>\n",
       "      <td>0.729453</td>\n",
       "      <td>0.866475</td>\n",
       "      <td>0.162641</td>\n",
       "      <td>0.708333</td>\n",
       "      <td>0.211087</td>\n",
       "      <td>0.727203</td>\n",
       "      <td>0.124031</td>\n",
       "      <td>0.366197</td>\n",
       "    </tr>\n",
       "    <tr>\n",
       "      <th>20628</th>\n",
       "      <td>0.665663</td>\n",
       "      <td>0.684979</td>\n",
       "      <td>0.775321</td>\n",
       "      <td>0.175523</td>\n",
       "      <td>0.738095</td>\n",
       "      <td>0.281450</td>\n",
       "      <td>0.922278</td>\n",
       "      <td>0.232558</td>\n",
       "      <td>0.053991</td>\n",
       "    </tr>\n",
       "    <tr>\n",
       "      <th>20629</th>\n",
       "      <td>0.608434</td>\n",
       "      <td>0.746021</td>\n",
       "      <td>0.747468</td>\n",
       "      <td>0.133655</td>\n",
       "      <td>0.916667</td>\n",
       "      <td>0.208955</td>\n",
       "      <td>0.823394</td>\n",
       "      <td>0.116279</td>\n",
       "      <td>0.234466</td>\n",
       "    </tr>\n",
       "    <tr>\n",
       "      <th>20630</th>\n",
       "      <td>0.795181</td>\n",
       "      <td>0.639634</td>\n",
       "      <td>0.842167</td>\n",
       "      <td>0.151369</td>\n",
       "      <td>0.803571</td>\n",
       "      <td>0.130064</td>\n",
       "      <td>0.687572</td>\n",
       "      <td>0.178295</td>\n",
       "      <td>0.218172</td>\n",
       "    </tr>\n",
       "  </tbody>\n",
       "</table>\n",
       "<p>20631 rows × 9 columns</p>\n",
       "</div>"
      ],
      "text/plain": [
       "              0         1         2         3         4         5         6  \\\n",
       "0      0.183735  0.406802  0.309757  0.726248  0.369048  0.633262  0.363986   \n",
       "1      0.283133  0.453019  0.352633  0.628019  0.380952  0.765458  0.411312   \n",
       "2      0.343373  0.369523  0.370527  0.710145  0.250000  0.795309  0.357445   \n",
       "3      0.343373  0.256159  0.331195  0.740741  0.166667  0.889126  0.166603   \n",
       "4      0.349398  0.257467  0.404625  0.668277  0.255952  0.746269  0.402078   \n",
       "...         ...       ...       ...       ...       ...       ...       ...   \n",
       "20626  0.686747  0.587312  0.782917  0.254428  0.726190  0.170576  0.656791   \n",
       "20627  0.701807  0.729453  0.866475  0.162641  0.708333  0.211087  0.727203   \n",
       "20628  0.665663  0.684979  0.775321  0.175523  0.738095  0.281450  0.922278   \n",
       "20629  0.608434  0.746021  0.747468  0.133655  0.916667  0.208955  0.823394   \n",
       "20630  0.795181  0.639634  0.842167  0.151369  0.803571  0.130064  0.687572   \n",
       "\n",
       "              7         8  \n",
       "0      0.713178  0.724662  \n",
       "1      0.666667  0.731014  \n",
       "2      0.627907  0.621375  \n",
       "3      0.573643  0.662386  \n",
       "4      0.589147  0.704502  \n",
       "...         ...       ...  \n",
       "20626  0.271318  0.109500  \n",
       "20627  0.124031  0.366197  \n",
       "20628  0.232558  0.053991  \n",
       "20629  0.116279  0.234466  \n",
       "20630  0.178295  0.218172  \n",
       "\n",
       "[20631 rows x 9 columns]"
      ]
     },
     "execution_count": 6,
     "metadata": {},
     "output_type": "execute_result"
    }
   ],
   "source": [
    "sensor_data_scaled_df = pd.DataFrame(sensor_data_scaled)\n",
    "sensor_data_scaled_df"
   ]
  },
  {
   "cell_type": "markdown",
   "id": "a8d4dfa6-875f-455b-918e-d833308c02c7",
   "metadata": {
    "tags": []
   },
   "source": [
    "## RUL Labeling"
   ]
  },
  {
   "cell_type": "code",
   "execution_count": null,
   "id": "770ae5a9-ad72-46c2-b0bc-f48dfd0218b0",
   "metadata": {},
   "outputs": [],
   "source": [
    "\n",
    "\n",
    "# Compute RUL for Each Unit\n",
    "units = train_data.iloc[:, 0].unique()\n",
    "rul_list = []\n",
    "for unit in units:\n",
    "    unit_data = train_data[train_data.iloc[:, 0] == unit]\n",
    "    max_cycle = unit_data.iloc[:, 1].max()\n",
    "    rul_unit = max_cycle - unit_data.iloc[:, 1]\n",
    "    rul_list.extend(rul_unit.values)\n",
    "rul = np.array(rul_list)\n",
    "\n",
    "# for early cycles -> cap the RUL at 97 cycles.\n",
    "initial_rul = 97\n",
    "rul_capped = np.where(rul > initial_rul, initial_rul, rul)"
   ]
  },
  {
   "cell_type": "code",
   "execution_count": 8,
   "id": "34ddb684-fde2-493e-9d5e-73c211960e12",
   "metadata": {
    "tags": []
   },
   "outputs": [
    {
     "data": {
      "text/html": [
       "<div>\n",
       "<style scoped>\n",
       "    .dataframe tbody tr th:only-of-type {\n",
       "        vertical-align: middle;\n",
       "    }\n",
       "\n",
       "    .dataframe tbody tr th {\n",
       "        vertical-align: top;\n",
       "    }\n",
       "\n",
       "    .dataframe thead th {\n",
       "        text-align: right;\n",
       "    }\n",
       "</style>\n",
       "<table border=\"1\" class=\"dataframe\">\n",
       "  <thead>\n",
       "    <tr style=\"text-align: right;\">\n",
       "      <th></th>\n",
       "      <th>0</th>\n",
       "      <th>1</th>\n",
       "      <th>2</th>\n",
       "      <th>3</th>\n",
       "      <th>4</th>\n",
       "      <th>5</th>\n",
       "      <th>6</th>\n",
       "      <th>7</th>\n",
       "      <th>8</th>\n",
       "      <th>RUL</th>\n",
       "      <th>cycle unit</th>\n",
       "    </tr>\n",
       "  </thead>\n",
       "  <tbody>\n",
       "    <tr>\n",
       "      <th>0</th>\n",
       "      <td>0.183735</td>\n",
       "      <td>0.406802</td>\n",
       "      <td>0.309757</td>\n",
       "      <td>0.726248</td>\n",
       "      <td>0.369048</td>\n",
       "      <td>0.633262</td>\n",
       "      <td>0.363986</td>\n",
       "      <td>0.713178</td>\n",
       "      <td>0.724662</td>\n",
       "      <td>97</td>\n",
       "      <td>1</td>\n",
       "    </tr>\n",
       "    <tr>\n",
       "      <th>1</th>\n",
       "      <td>0.283133</td>\n",
       "      <td>0.453019</td>\n",
       "      <td>0.352633</td>\n",
       "      <td>0.628019</td>\n",
       "      <td>0.380952</td>\n",
       "      <td>0.765458</td>\n",
       "      <td>0.411312</td>\n",
       "      <td>0.666667</td>\n",
       "      <td>0.731014</td>\n",
       "      <td>97</td>\n",
       "      <td>2</td>\n",
       "    </tr>\n",
       "    <tr>\n",
       "      <th>2</th>\n",
       "      <td>0.343373</td>\n",
       "      <td>0.369523</td>\n",
       "      <td>0.370527</td>\n",
       "      <td>0.710145</td>\n",
       "      <td>0.250000</td>\n",
       "      <td>0.795309</td>\n",
       "      <td>0.357445</td>\n",
       "      <td>0.627907</td>\n",
       "      <td>0.621375</td>\n",
       "      <td>97</td>\n",
       "      <td>3</td>\n",
       "    </tr>\n",
       "    <tr>\n",
       "      <th>3</th>\n",
       "      <td>0.343373</td>\n",
       "      <td>0.256159</td>\n",
       "      <td>0.331195</td>\n",
       "      <td>0.740741</td>\n",
       "      <td>0.166667</td>\n",
       "      <td>0.889126</td>\n",
       "      <td>0.166603</td>\n",
       "      <td>0.573643</td>\n",
       "      <td>0.662386</td>\n",
       "      <td>97</td>\n",
       "      <td>4</td>\n",
       "    </tr>\n",
       "    <tr>\n",
       "      <th>4</th>\n",
       "      <td>0.349398</td>\n",
       "      <td>0.257467</td>\n",
       "      <td>0.404625</td>\n",
       "      <td>0.668277</td>\n",
       "      <td>0.255952</td>\n",
       "      <td>0.746269</td>\n",
       "      <td>0.402078</td>\n",
       "      <td>0.589147</td>\n",
       "      <td>0.704502</td>\n",
       "      <td>97</td>\n",
       "      <td>5</td>\n",
       "    </tr>\n",
       "    <tr>\n",
       "      <th>...</th>\n",
       "      <td>...</td>\n",
       "      <td>...</td>\n",
       "      <td>...</td>\n",
       "      <td>...</td>\n",
       "      <td>...</td>\n",
       "      <td>...</td>\n",
       "      <td>...</td>\n",
       "      <td>...</td>\n",
       "      <td>...</td>\n",
       "      <td>...</td>\n",
       "      <td>...</td>\n",
       "    </tr>\n",
       "    <tr>\n",
       "      <th>20626</th>\n",
       "      <td>0.686747</td>\n",
       "      <td>0.587312</td>\n",
       "      <td>0.782917</td>\n",
       "      <td>0.254428</td>\n",
       "      <td>0.726190</td>\n",
       "      <td>0.170576</td>\n",
       "      <td>0.656791</td>\n",
       "      <td>0.271318</td>\n",
       "      <td>0.109500</td>\n",
       "      <td>4</td>\n",
       "      <td>196</td>\n",
       "    </tr>\n",
       "    <tr>\n",
       "      <th>20627</th>\n",
       "      <td>0.701807</td>\n",
       "      <td>0.729453</td>\n",
       "      <td>0.866475</td>\n",
       "      <td>0.162641</td>\n",
       "      <td>0.708333</td>\n",
       "      <td>0.211087</td>\n",
       "      <td>0.727203</td>\n",
       "      <td>0.124031</td>\n",
       "      <td>0.366197</td>\n",
       "      <td>3</td>\n",
       "      <td>197</td>\n",
       "    </tr>\n",
       "    <tr>\n",
       "      <th>20628</th>\n",
       "      <td>0.665663</td>\n",
       "      <td>0.684979</td>\n",
       "      <td>0.775321</td>\n",
       "      <td>0.175523</td>\n",
       "      <td>0.738095</td>\n",
       "      <td>0.281450</td>\n",
       "      <td>0.922278</td>\n",
       "      <td>0.232558</td>\n",
       "      <td>0.053991</td>\n",
       "      <td>2</td>\n",
       "      <td>198</td>\n",
       "    </tr>\n",
       "    <tr>\n",
       "      <th>20629</th>\n",
       "      <td>0.608434</td>\n",
       "      <td>0.746021</td>\n",
       "      <td>0.747468</td>\n",
       "      <td>0.133655</td>\n",
       "      <td>0.916667</td>\n",
       "      <td>0.208955</td>\n",
       "      <td>0.823394</td>\n",
       "      <td>0.116279</td>\n",
       "      <td>0.234466</td>\n",
       "      <td>1</td>\n",
       "      <td>199</td>\n",
       "    </tr>\n",
       "    <tr>\n",
       "      <th>20630</th>\n",
       "      <td>0.795181</td>\n",
       "      <td>0.639634</td>\n",
       "      <td>0.842167</td>\n",
       "      <td>0.151369</td>\n",
       "      <td>0.803571</td>\n",
       "      <td>0.130064</td>\n",
       "      <td>0.687572</td>\n",
       "      <td>0.178295</td>\n",
       "      <td>0.218172</td>\n",
       "      <td>0</td>\n",
       "      <td>200</td>\n",
       "    </tr>\n",
       "  </tbody>\n",
       "</table>\n",
       "<p>20631 rows × 11 columns</p>\n",
       "</div>"
      ],
      "text/plain": [
       "              0         1         2         3         4         5         6  \\\n",
       "0      0.183735  0.406802  0.309757  0.726248  0.369048  0.633262  0.363986   \n",
       "1      0.283133  0.453019  0.352633  0.628019  0.380952  0.765458  0.411312   \n",
       "2      0.343373  0.369523  0.370527  0.710145  0.250000  0.795309  0.357445   \n",
       "3      0.343373  0.256159  0.331195  0.740741  0.166667  0.889126  0.166603   \n",
       "4      0.349398  0.257467  0.404625  0.668277  0.255952  0.746269  0.402078   \n",
       "...         ...       ...       ...       ...       ...       ...       ...   \n",
       "20626  0.686747  0.587312  0.782917  0.254428  0.726190  0.170576  0.656791   \n",
       "20627  0.701807  0.729453  0.866475  0.162641  0.708333  0.211087  0.727203   \n",
       "20628  0.665663  0.684979  0.775321  0.175523  0.738095  0.281450  0.922278   \n",
       "20629  0.608434  0.746021  0.747468  0.133655  0.916667  0.208955  0.823394   \n",
       "20630  0.795181  0.639634  0.842167  0.151369  0.803571  0.130064  0.687572   \n",
       "\n",
       "              7         8  RUL  cycle unit  \n",
       "0      0.713178  0.724662   97           1  \n",
       "1      0.666667  0.731014   97           2  \n",
       "2      0.627907  0.621375   97           3  \n",
       "3      0.573643  0.662386   97           4  \n",
       "4      0.589147  0.704502   97           5  \n",
       "...         ...       ...  ...         ...  \n",
       "20626  0.271318  0.109500    4         196  \n",
       "20627  0.124031  0.366197    3         197  \n",
       "20628  0.232558  0.053991    2         198  \n",
       "20629  0.116279  0.234466    1         199  \n",
       "20630  0.178295  0.218172    0         200  \n",
       "\n",
       "[20631 rows x 11 columns]"
      ]
     },
     "execution_count": 8,
     "metadata": {},
     "output_type": "execute_result"
    }
   ],
   "source": [
    "df = pd.DataFrame(rul_capped)\n",
    "sensor_data_scaled_df['RUL']= rul_capped\n",
    "sensor_data_scaled_df['cycle unit']=train_data['cycle']\n",
    "sensor_data_scaled_df"
   ]
  },
  {
   "cell_type": "code",
   "execution_count": null,
   "id": "76a34fda-23cc-4e99-9b90-6b2c292c681d",
   "metadata": {
    "tags": []
   },
   "outputs": [
    {
     "data": {
      "text/html": [
       "<div>\n",
       "<style scoped>\n",
       "    .dataframe tbody tr th:only-of-type {\n",
       "        vertical-align: middle;\n",
       "    }\n",
       "\n",
       "    .dataframe tbody tr th {\n",
       "        vertical-align: top;\n",
       "    }\n",
       "\n",
       "    .dataframe thead th {\n",
       "        text-align: right;\n",
       "    }\n",
       "</style>\n",
       "<table border=\"1\" class=\"dataframe\">\n",
       "  <thead>\n",
       "    <tr style=\"text-align: right;\">\n",
       "      <th></th>\n",
       "      <th>0</th>\n",
       "      <th>1</th>\n",
       "      <th>2</th>\n",
       "      <th>3</th>\n",
       "      <th>4</th>\n",
       "      <th>5</th>\n",
       "      <th>6</th>\n",
       "      <th>7</th>\n",
       "      <th>8</th>\n",
       "      <th>RUL</th>\n",
       "    </tr>\n",
       "  </thead>\n",
       "  <tbody>\n",
       "    <tr>\n",
       "      <th>0</th>\n",
       "      <td>0.183735</td>\n",
       "      <td>0.406802</td>\n",
       "      <td>0.309757</td>\n",
       "      <td>0.726248</td>\n",
       "      <td>0.369048</td>\n",
       "      <td>0.633262</td>\n",
       "      <td>0.363986</td>\n",
       "      <td>0.713178</td>\n",
       "      <td>0.724662</td>\n",
       "      <td>97</td>\n",
       "    </tr>\n",
       "    <tr>\n",
       "      <th>1</th>\n",
       "      <td>0.283133</td>\n",
       "      <td>0.453019</td>\n",
       "      <td>0.352633</td>\n",
       "      <td>0.628019</td>\n",
       "      <td>0.380952</td>\n",
       "      <td>0.765458</td>\n",
       "      <td>0.411312</td>\n",
       "      <td>0.666667</td>\n",
       "      <td>0.731014</td>\n",
       "      <td>97</td>\n",
       "    </tr>\n",
       "    <tr>\n",
       "      <th>2</th>\n",
       "      <td>0.343373</td>\n",
       "      <td>0.369523</td>\n",
       "      <td>0.370527</td>\n",
       "      <td>0.710145</td>\n",
       "      <td>0.250000</td>\n",
       "      <td>0.795309</td>\n",
       "      <td>0.357445</td>\n",
       "      <td>0.627907</td>\n",
       "      <td>0.621375</td>\n",
       "      <td>97</td>\n",
       "    </tr>\n",
       "    <tr>\n",
       "      <th>3</th>\n",
       "      <td>0.343373</td>\n",
       "      <td>0.256159</td>\n",
       "      <td>0.331195</td>\n",
       "      <td>0.740741</td>\n",
       "      <td>0.166667</td>\n",
       "      <td>0.889126</td>\n",
       "      <td>0.166603</td>\n",
       "      <td>0.573643</td>\n",
       "      <td>0.662386</td>\n",
       "      <td>97</td>\n",
       "    </tr>\n",
       "    <tr>\n",
       "      <th>4</th>\n",
       "      <td>0.349398</td>\n",
       "      <td>0.257467</td>\n",
       "      <td>0.404625</td>\n",
       "      <td>0.668277</td>\n",
       "      <td>0.255952</td>\n",
       "      <td>0.746269</td>\n",
       "      <td>0.402078</td>\n",
       "      <td>0.589147</td>\n",
       "      <td>0.704502</td>\n",
       "      <td>97</td>\n",
       "    </tr>\n",
       "    <tr>\n",
       "      <th>...</th>\n",
       "      <td>...</td>\n",
       "      <td>...</td>\n",
       "      <td>...</td>\n",
       "      <td>...</td>\n",
       "      <td>...</td>\n",
       "      <td>...</td>\n",
       "      <td>...</td>\n",
       "      <td>...</td>\n",
       "      <td>...</td>\n",
       "      <td>...</td>\n",
       "    </tr>\n",
       "    <tr>\n",
       "      <th>20626</th>\n",
       "      <td>0.686747</td>\n",
       "      <td>0.587312</td>\n",
       "      <td>0.782917</td>\n",
       "      <td>0.254428</td>\n",
       "      <td>0.726190</td>\n",
       "      <td>0.170576</td>\n",
       "      <td>0.656791</td>\n",
       "      <td>0.271318</td>\n",
       "      <td>0.109500</td>\n",
       "      <td>4</td>\n",
       "    </tr>\n",
       "    <tr>\n",
       "      <th>20627</th>\n",
       "      <td>0.701807</td>\n",
       "      <td>0.729453</td>\n",
       "      <td>0.866475</td>\n",
       "      <td>0.162641</td>\n",
       "      <td>0.708333</td>\n",
       "      <td>0.211087</td>\n",
       "      <td>0.727203</td>\n",
       "      <td>0.124031</td>\n",
       "      <td>0.366197</td>\n",
       "      <td>3</td>\n",
       "    </tr>\n",
       "    <tr>\n",
       "      <th>20628</th>\n",
       "      <td>0.665663</td>\n",
       "      <td>0.684979</td>\n",
       "      <td>0.775321</td>\n",
       "      <td>0.175523</td>\n",
       "      <td>0.738095</td>\n",
       "      <td>0.281450</td>\n",
       "      <td>0.922278</td>\n",
       "      <td>0.232558</td>\n",
       "      <td>0.053991</td>\n",
       "      <td>2</td>\n",
       "    </tr>\n",
       "    <tr>\n",
       "      <th>20629</th>\n",
       "      <td>0.608434</td>\n",
       "      <td>0.746021</td>\n",
       "      <td>0.747468</td>\n",
       "      <td>0.133655</td>\n",
       "      <td>0.916667</td>\n",
       "      <td>0.208955</td>\n",
       "      <td>0.823394</td>\n",
       "      <td>0.116279</td>\n",
       "      <td>0.234466</td>\n",
       "      <td>1</td>\n",
       "    </tr>\n",
       "    <tr>\n",
       "      <th>20630</th>\n",
       "      <td>0.795181</td>\n",
       "      <td>0.639634</td>\n",
       "      <td>0.842167</td>\n",
       "      <td>0.151369</td>\n",
       "      <td>0.803571</td>\n",
       "      <td>0.130064</td>\n",
       "      <td>0.687572</td>\n",
       "      <td>0.178295</td>\n",
       "      <td>0.218172</td>\n",
       "      <td>0</td>\n",
       "    </tr>\n",
       "  </tbody>\n",
       "</table>\n",
       "<p>20631 rows × 10 columns</p>\n",
       "</div>"
      ],
      "text/plain": [
       "              0         1         2         3         4         5         6  \\\n",
       "0      0.183735  0.406802  0.309757  0.726248  0.369048  0.633262  0.363986   \n",
       "1      0.283133  0.453019  0.352633  0.628019  0.380952  0.765458  0.411312   \n",
       "2      0.343373  0.369523  0.370527  0.710145  0.250000  0.795309  0.357445   \n",
       "3      0.343373  0.256159  0.331195  0.740741  0.166667  0.889126  0.166603   \n",
       "4      0.349398  0.257467  0.404625  0.668277  0.255952  0.746269  0.402078   \n",
       "...         ...       ...       ...       ...       ...       ...       ...   \n",
       "20626  0.686747  0.587312  0.782917  0.254428  0.726190  0.170576  0.656791   \n",
       "20627  0.701807  0.729453  0.866475  0.162641  0.708333  0.211087  0.727203   \n",
       "20628  0.665663  0.684979  0.775321  0.175523  0.738095  0.281450  0.922278   \n",
       "20629  0.608434  0.746021  0.747468  0.133655  0.916667  0.208955  0.823394   \n",
       "20630  0.795181  0.639634  0.842167  0.151369  0.803571  0.130064  0.687572   \n",
       "\n",
       "              7         8  RUL  \n",
       "0      0.713178  0.724662   97  \n",
       "1      0.666667  0.731014   97  \n",
       "2      0.627907  0.621375   97  \n",
       "3      0.573643  0.662386   97  \n",
       "4      0.589147  0.704502   97  \n",
       "...         ...       ...  ...  \n",
       "20626  0.271318  0.109500    4  \n",
       "20627  0.124031  0.366197    3  \n",
       "20628  0.232558  0.053991    2  \n",
       "20629  0.116279  0.234466    1  \n",
       "20630  0.178295  0.218172    0  \n",
       "\n",
       "[20631 rows x 10 columns]"
      ]
     },
     "execution_count": 9,
     "metadata": {},
     "output_type": "execute_result"
    }
   ],
   "source": [
    "\n",
    "sensor_data_scaled_df = sensor_data_scaled_df.drop(columns=['cycle unit'])\n",
    "sensor_data_scaled_df"
   ]
  },
  {
   "cell_type": "markdown",
   "id": "93134f59-eb24-4f46-849f-8b2217c67307",
   "metadata": {
    "tags": []
   },
   "source": [
    "# Train model"
   ]
  },
  {
   "cell_type": "code",
   "execution_count": 10,
   "id": "7afd663e-7e2a-4eb1-9112-514fd3952c1f",
   "metadata": {},
   "outputs": [],
   "source": [
    "X = sensor_data_scaled_df.drop('RUL', axis=1).values\n",
    "y = sensor_data_scaled_df['RUL'].values"
   ]
  },
  {
   "cell_type": "code",
   "execution_count": 11,
   "id": "9b5906ef-d62f-493b-9ba3-484c3adbe56d",
   "metadata": {},
   "outputs": [],
   "source": [
    "X_train, X_test, y_train, y_test = train_test_split(X, y, test_size=0.2, random_state=42)"
   ]
  },
  {
   "cell_type": "markdown",
   "id": "97ebd396-3958-405d-96b8-898d4c07d2cb",
   "metadata": {},
   "source": [
    "## linear regression model"
   ]
  },
  {
   "cell_type": "code",
   "execution_count": null,
   "id": "e7a79c0a-22d4-43e1-a2ae-1b685ab14ca0",
   "metadata": {},
   "outputs": [
    {
     "data": {
      "text/plain": [
       "LinearRegression()"
      ]
     },
     "execution_count": 12,
     "metadata": {},
     "output_type": "execute_result"
    }
   ],
   "source": [
    "\n",
    "model = LinearRegression()\n",
    "model.fit(X_train, y_train)"
   ]
  },
  {
   "cell_type": "code",
   "execution_count": null,
   "id": "56577b52-aa5c-4fe4-9517-b832737fb55e",
   "metadata": {},
   "outputs": [],
   "source": [
    "\n",
    "y_lr_train_prediction=model.predict(X_train)\n",
    "y_lr_test_prediction=model.predict(X_test)\n",
    "\n",
    "#print(y_lr_train_prediction,y_lr_test_prediction)"
   ]
  },
  {
   "cell_type": "markdown",
   "id": "42ec4605-9ef2-4c93-9c82-11cfee076bf1",
   "metadata": {
    "tags": []
   },
   "source": [
    "## Random Forest Model with GridSearch"
   ]
  },
  {
   "cell_type": "code",
   "execution_count": null,
   "id": "ed4c924b-1060-4cdd-90c1-4dfc38cad8cc",
   "metadata": {},
   "outputs": [],
   "source": [
    "\n",
    "n_estimators = [int(x) for x in np.linspace(start = 10, stop = 80, num = 10)]\n",
    "max_features = ['auto', 'sqrt']\n",
    "max_depth = [2,4]\n",
    "min_samples_split = [2, 5]\n",
    "min_samples_leaf = [1, 2]\n",
    "bootstrap = [True, False]"
   ]
  },
  {
   "cell_type": "code",
   "execution_count": null,
   "id": "c7a309e4-c3c8-438f-a4ab-df078b1406a2",
   "metadata": {},
   "outputs": [
    {
     "name": "stdout",
     "output_type": "stream",
     "text": [
      "{'n_estimators': [10, 17, 25, 33, 41, 48, 56, 64, 72, 80], 'max_features': ['auto', 'sqrt'], 'max_depth': [2, 4], 'min_samples_split': [2, 5], 'min_samples_leaf': [1, 2], 'bootstrap': [True, False]}\n"
     ]
    }
   ],
   "source": [
    "\n",
    "param_grid = {'n_estimators': n_estimators,\n",
    "               'max_features': max_features,\n",
    "               'max_depth': max_depth,\n",
    "               'min_samples_split': min_samples_split,\n",
    "               'min_samples_leaf': min_samples_leaf,\n",
    "               'bootstrap': bootstrap}\n",
    "print(param_grid)"
   ]
  },
  {
   "cell_type": "code",
   "execution_count": null,
   "id": "a950d7d7-713c-4a1f-b018-c2cf20cfb4e1",
   "metadata": {
    "tags": []
   },
   "outputs": [
    {
     "data": {
      "text/plain": [
       "GridSearchCV(cv=5, estimator=RandomForestRegressor(), n_jobs=-1,\n",
       "             param_grid={'bootstrap': [True, False], 'max_depth': [2, 4],\n",
       "                         'max_features': ['auto', 'sqrt'],\n",
       "                         'min_samples_leaf': [1, 2],\n",
       "                         'min_samples_split': [2, 5],\n",
       "                         'n_estimators': [10, 17, 25, 33, 41, 48, 56, 64, 72,\n",
       "                                          80]})"
      ]
     },
     "execution_count": 16,
     "metadata": {},
     "output_type": "execute_result"
    }
   ],
   "source": [
    "from sklearn.ensemble import RandomForestRegressor\n",
    "\n",
    "grid_search = GridSearchCV(RandomForestRegressor(),\n",
    "                           param_grid=param_grid,\n",
    "                           cv=5, \n",
    "                           n_jobs=-1)\n",
    "grid_search.fit(X_train, y_train)"
   ]
  },
  {
   "cell_type": "code",
   "execution_count": 17,
   "id": "edae6563-2f2e-42d4-8691-7c2e4491c3c1",
   "metadata": {
    "tags": []
   },
   "outputs": [
    {
     "name": "stdout",
     "output_type": "stream",
     "text": [
      "Fitting 3 folds for each of 320 candidates, totalling 960 fits\n"
     ]
    },
    {
     "data": {
      "text/plain": [
       "GridSearchCV(cv=3, estimator=RandomForestRegressor(), n_jobs=4,\n",
       "             param_grid={'bootstrap': [True, False], 'max_depth': [2, 4],\n",
       "                         'max_features': ['auto', 'sqrt'],\n",
       "                         'min_samples_leaf': [1, 2],\n",
       "                         'min_samples_split': [2, 5],\n",
       "                         'n_estimators': [10, 17, 25, 33, 41, 48, 56, 64, 72,\n",
       "                                          80]},\n",
       "             verbose=2)"
      ]
     },
     "execution_count": 17,
     "metadata": {},
     "output_type": "execute_result"
    }
   ],
   "source": [
    "from sklearn.ensemble import RandomForestRegressor\n",
    "from sklearn.model_selection import GridSearchCV\n",
    "\n",
    "rf_Model = RandomForestRegressor()\n",
    "\n",
    "rf_Grid = GridSearchCV(estimator = rf_Model, param_grid = param_grid, cv = 3, verbose=2, n_jobs = 4)\n",
    "\n",
    "\n",
    "rf_Grid.fit(X_train, y_train)"
   ]
  },
  {
   "cell_type": "code",
   "execution_count": 18,
   "id": "e8d48093-a3b6-48bd-9ab9-55dff53cfed3",
   "metadata": {},
   "outputs": [
    {
     "data": {
      "text/plain": [
       "{'bootstrap': True,\n",
       " 'max_depth': 4,\n",
       " 'max_features': 'sqrt',\n",
       " 'min_samples_leaf': 2,\n",
       " 'min_samples_split': 5,\n",
       " 'n_estimators': 80}"
      ]
     },
     "execution_count": 18,
     "metadata": {},
     "output_type": "execute_result"
    }
   ],
   "source": [
    "rf_Grid.best_params_"
   ]
  },
  {
   "cell_type": "code",
   "execution_count": 19,
   "id": "191deeb0-c511-4c76-85fd-74e2b1c4ceeb",
   "metadata": {},
   "outputs": [
    {
     "data": {
      "text/plain": [
       "RandomForestRegressor(max_depth=4, max_features='sqrt', min_samples_leaf=2,\n",
       "                      min_samples_split=5, n_estimators=80)"
      ]
     },
     "execution_count": 19,
     "metadata": {},
     "output_type": "execute_result"
    }
   ],
   "source": [
    "rf_Grid.best_estimator_"
   ]
  },
  {
   "cell_type": "code",
   "execution_count": 20,
   "id": "a4955c3c-4c97-452c-ac1e-2db09204ffec",
   "metadata": {},
   "outputs": [],
   "source": [
    "y_rf_train_pred = rf_Grid.predict(X_train)\n",
    "y_rf_test_pred = rf_Grid.predict(X_test)"
   ]
  },
  {
   "cell_type": "code",
   "execution_count": null,
   "id": "d7ceac8d-9db1-4ee0-afa3-f8c1d0e6f3da",
   "metadata": {},
   "outputs": [],
   "source": [
    "import pickle\n",
    "\n",
    "\n",
    "with open('rf_model_1.pkl', 'wb') as file:\n",
    "    pickle.dump(rf_Grid, file)"
   ]
  },
  {
   "cell_type": "markdown",
   "id": "44ea5d3b-64b4-4424-adea-0d982532dc6b",
   "metadata": {
    "tags": []
   },
   "source": [
    "## SVR model"
   ]
  },
  {
   "cell_type": "code",
   "execution_count": null,
   "id": "52f5974a-8aaf-471a-8aae-bfae0ab56f10",
   "metadata": {
    "tags": []
   },
   "outputs": [
    {
     "data": {
      "text/plain": [
       "SVR(C=10, epsilon=0.05, gamma=0.5)"
      ]
     },
     "execution_count": 22,
     "metadata": {},
     "output_type": "execute_result"
    }
   ],
   "source": [
    "from sklearn.svm import SVR\n",
    "\n",
    "\n",
    "svr_model = SVR(kernel='rbf', gamma=0.5, C=10, epsilon=0.05)\n",
    "\n",
    "svr_model.fit(X_train, y_train)"
   ]
  },
  {
   "cell_type": "code",
   "execution_count": 23,
   "id": "097700e9-4a24-4144-af39-cea26e2342f7",
   "metadata": {},
   "outputs": [
    {
     "data": {
      "text/plain": [
       "GridSearchCV(cv=5, estimator=SVR(), n_jobs=-1,\n",
       "             param_grid={'C': [0.1, 1, 10, 100], 'epsilon': [0.01, 0.1, 0.5, 1],\n",
       "                         'gamma': ['scale', 'auto', 0.1, 0.01, 0.001]})"
      ]
     },
     "execution_count": 23,
     "metadata": {},
     "output_type": "execute_result"
    }
   ],
   "source": [
    "from sklearn.svm import SVR\n",
    "param_grid_svr = {\n",
    "    'C': [0.1, 1, 10, 100],\n",
    "    'gamma': ['scale', 'auto', 0.1, 0.01, 0.001],\n",
    "    'epsilon': [0.01, 0.1, 0.5, 1]\n",
    "}\n",
    "grid_search_svr = GridSearchCV(SVR(kernel='rbf'), param_grid=param_grid_svr, cv=5, n_jobs=-1)\n",
    "grid_search_svr.fit(X_train, y_train)\n"
   ]
  },
  {
   "cell_type": "code",
   "execution_count": 78,
   "id": "40a201d2-6706-4a72-8d35-2069a024ce02",
   "metadata": {},
   "outputs": [
    {
     "data": {
      "text/plain": [
       "SVR(C=100, epsilon=1, gamma='auto')"
      ]
     },
     "execution_count": 78,
     "metadata": {},
     "output_type": "execute_result"
    }
   ],
   "source": [
    "grid_search_svr.best_estimator_"
   ]
  },
  {
   "cell_type": "code",
   "execution_count": 24,
   "id": "03d18dac-6aca-40e6-bb7b-835776b441a2",
   "metadata": {},
   "outputs": [],
   "source": [
    "y_svr_train_pred = grid_search_svr.predict(X_train)\n",
    "y_svr_test_pred = grid_search_svr.predict(X_test)"
   ]
  },
  {
   "cell_type": "code",
   "execution_count": null,
   "id": "aa157cb3-9534-4b6e-9f86-274c8bd5b8b4",
   "metadata": {},
   "outputs": [],
   "source": [
    "import pickle\n",
    "\n",
    "with open('svr_model_1.pkl', 'wb') as file:\n",
    "    pickle.dump(grid_search_svr, file)"
   ]
  },
  {
   "cell_type": "markdown",
   "id": "549015c1-9027-4db3-9f02-e3270b26574f",
   "metadata": {
    "tags": []
   },
   "source": [
    "## FeedForward NN"
   ]
  },
  {
   "cell_type": "code",
   "execution_count": null,
   "id": "67d4314b-6509-4248-a453-4add33ba837c",
   "metadata": {
    "tags": []
   },
   "outputs": [
    {
     "name": "stdout",
     "output_type": "stream",
     "text": [
      "Train on 16504 samples, validate on 4127 samples\n",
      "Epoch 1/100\n",
      "16504/16504 [==============================] - 4s 213us/sample - loss: 6197.7631 - mae: 73.5648 - val_loss: 6186.6252 - val_mae: 74.0454\n",
      "Epoch 2/100\n",
      "16504/16504 [==============================] - 2s 138us/sample - loss: 5936.1478 - mae: 73.1964 - val_loss: 5864.5176 - val_mae: 73.3794\n",
      "Epoch 3/100\n",
      "16504/16504 [==============================] - 2s 143us/sample - loss: 5778.7216 - mae: 72.7321 - val_loss: 5679.4500 - val_mae: 72.564574\n",
      "Epoch 4/100\n",
      "16504/16504 [==============================] - 2s 145us/sample - loss: 5629.3407 - mae: 72.1401 - val_loss: 5492.3839 - val_mae: 71.6980\n",
      "Epoch 5/100\n",
      "16504/16504 [==============================] - 2s 145us/sample - loss: 5469.5660 - mae: 71.4468 - val_loss: 5344.8663 - val_mae: 71.0049\n",
      "Epoch 6/100\n",
      "16504/16504 [==============================] - 2s 148us/sample - loss: 5318.4415 - mae: 70.6793 - val_loss: 5239.3639 - val_mae: 70.5483: 5352\n",
      "Epoch 7/100\n",
      "16504/16504 [==============================] - 3s 154us/sample - loss: 5160.7831 - mae: 69.7952 - val_loss: 5067.9644 - val_mae: 69.5047\n",
      "Epoch 8/100\n",
      "16504/16504 [==============================] - 3s 154us/sample - loss: 5009.6002 - mae: 68.8584 - val_loss: 4901.8652 - val_mae: 68.4151024.3015\n",
      "Epoch 9/100\n",
      "16504/16504 [==============================] - 2s 149us/sample - loss: 4858.1084 - mae: 67.8372 - val_loss: 4770.8679 - val_mae: 67.5224s - loss: 4871.5209 - mae:\n",
      "Epoch 10/100\n",
      "16504/16504 [==============================] - 2s 149us/sample - loss: 4703.6696 - mae: 66.7251 - val_loss: 4543.0065 - val_mae: 65.8291\n",
      "Epoch 11/100\n",
      "16504/16504 [==============================] - 3s 151us/sample - loss: 4556.7890 - mae: 65.6014 - val_loss: 4473.9059 - val_mae: 65.2824\n",
      "Epoch 12/100\n",
      "16504/16504 [==============================] - 3s 155us/sample - loss: 4404.2696 - mae: 64.3390 - val_loss: 4331.5019 - val_mae: 64.1521\n",
      "Epoch 13/100\n",
      "16504/16504 [==============================] - 2s 145us/sample - loss: 4225.8989 - mae: 62.9805 - val_loss: 4133.8533 - val_mae: 62.5815\n",
      "Epoch 14/100\n",
      "16504/16504 [==============================] - 3s 155us/sample - loss: 4055.0765 - mae: 61.5453 - val_loss: 3959.9079 - val_mae: 61.1697\n",
      "Epoch 15/100\n",
      "16504/16504 [==============================] - 2s 150us/sample - loss: 3858.5396 - mae: 59.9826 - val_loss: 3790.7552 - val_mae: 59.7819\n",
      "Epoch 16/100\n",
      "16504/16504 [==============================] - 2s 149us/sample - loss: 3659.1941 - mae: 58.3100 - val_loss: 3571.3035 - val_mae: 57.9349\n",
      "Epoch 17/100\n",
      "16504/16504 [==============================] - 2s 151us/sample - loss: 3456.7710 - mae: 56.5827 - val_loss: 3320.4671 - val_mae: 55.7366\n",
      "Epoch 18/100\n",
      "16504/16504 [==============================] - 2s 150us/sample - loss: 3248.1164 - mae: 54.7361 - val_loss: 3098.0510 - val_mae: 53.70773 - mae: 54 - ETA: 0s - loss: 3248.5912 - mae\n",
      "Epoch 19/100\n",
      "16504/16504 [==============================] - 2s 145us/sample - loss: 3055.8668 - mae: 52.9008 - val_loss: 2923.9264 - val_mae: 52.0666\n",
      "Epoch 20/100\n",
      "16504/16504 [==============================] - 3s 165us/sample - loss: 2855.4628 - mae: 50.9416 - val_loss: 2723.5083 - val_mae: 50.1133\n",
      "Epoch 21/100\n",
      "16504/16504 [==============================] - 2s 148us/sample - loss: 2643.7296 - mae: 48.8864 - val_loss: 2580.9288 - val_mae: 48.6729\n",
      "Epoch 22/100\n",
      "16504/16504 [==============================] - 2s 146us/sample - loss: 2438.8288 - mae: 46.7747 - val_loss: 2339.8396 - val_mae: 46.1563\n",
      "Epoch 23/100\n",
      "16504/16504 [==============================] - 2s 148us/sample - loss: 2246.0845 - mae: 44.6706 - val_loss: 2116.1342 - val_mae: 43.7074ss\n",
      "Epoch 24/100\n",
      "16504/16504 [==============================] - 2s 149us/sample - loss: 2059.1695 - mae: 42.5402 - val_loss: 1895.0367 - val_mae: 41.1838\n",
      "Epoch 25/100\n",
      "16504/16504 [==============================] - 2s 151us/sample - loss: 1868.7166 - mae: 40.3037 - val_loss: 1695.6621 - val_mae: 38.7785\n",
      "Epoch 26/100\n",
      "16504/16504 [==============================] - 3s 154us/sample - loss: 1688.0706 - mae: 38.0873 - val_loss: 1575.6804 - val_mae: 37.2643\n",
      "Epoch 27/100\n",
      "16504/16504 [==============================] - 3s 171us/sample - loss: 1515.2704 - mae: 35.8596 - val_loss: 1386.4344 - val_mae: 34.7836\n",
      "Epoch 28/100\n",
      "16504/16504 [==============================] - 2s 146us/sample - loss: 1343.4007 - mae: 33.5420 - val_loss: 1203.2737 - val_mae: 32.2233\n",
      "Epoch 29/100\n",
      "16504/16504 [==============================] - 3s 154us/sample - loss: 1190.2021 - mae: 31.2944 - val_loss: 1072.8815 - val_mae: 30.2878\n",
      "Epoch 30/100\n",
      "16504/16504 [==============================] - 3s 154us/sample - loss: 1055.5901 - mae: 29.2214 - val_loss: 921.4956 - val_mae: 27.9280\n",
      "Epoch 31/100\n",
      "16504/16504 [==============================] - 3s 171us/sample - loss: 921.3486 - mae: 27.0681 - val_loss: 809.3748 - val_mae: 26.0470\n",
      "Epoch 32/100\n",
      "16504/16504 [==============================] - 3s 153us/sample - loss: 808.5955 - mae: 25.1256 - val_loss: 668.0485 - val_mae: 23.5235\n",
      "Epoch 33/100\n",
      "16504/16504 [==============================] - 3s 180us/sample - loss: 690.0555 - mae: 23.0089 - val_loss: 599.9343 - val_mae: 22.2160\n",
      "Epoch 34/100\n",
      "16504/16504 [==============================] - 3s 160us/sample - loss: 604.3110 - mae: 21.3382 - val_loss: 508.2163 - val_mae: 20.2521s: 604.1992 - mae: 21.33\n",
      "Epoch 35/100\n",
      "16504/16504 [==============================] - 3s 160us/sample - loss: 518.1899 - mae: 19.4372 - val_loss: 409.5951 - val_mae: 18.0247\n",
      "Epoch 36/100\n",
      "16504/16504 [==============================] - 3s 156us/sample - loss: 451.9971 - mae: 17.9925 - val_loss: 370.6521 - val_mae: 17.0379 - loss: 456.9597 - ma\n",
      "Epoch 37/100\n",
      "16504/16504 [==============================] - 3s 152us/sample - loss: 402.5291 - mae: 16.7274 - val_loss: 309.1225 - val_mae: 15.2452\n",
      "Epoch 38/100\n",
      "16504/16504 [==============================] - 3s 159us/sample - loss: 360.4444 - mae: 15.5217 - val_loss: 277.1155 - val_mae: 14.1222\n",
      "Epoch 39/100\n",
      "16504/16504 [==============================] - 3s 188us/sample - loss: 325.1446 - mae: 14.5695 - val_loss: 243.4750 - val_mae: 12.8544oss: 328.1778 \n",
      "Epoch 40/100\n",
      "16504/16504 [==============================] - 2s 139us/sample - loss: 308.9225 - mae: 13.9825 - val_loss: 235.3151 - val_mae: 12.3873\n",
      "Epoch 41/100\n",
      "16504/16504 [==============================] - 3s 162us/sample - loss: 296.7416 - mae: 13.5638 - val_loss: 220.9059 - val_mae: 11.5287\n",
      "Epoch 42/100\n",
      "16504/16504 [==============================] - 3s 157us/sample - loss: 289.1571 - mae: 13.2518 - val_loss: 216.7733 - val_mae: 11.2428\n",
      "Epoch 43/100\n",
      "16504/16504 [==============================] - 3s 155us/sample - loss: 282.6767 - mae: 13.0172 - val_loss: 213.0621 - val_mae: 10.8795\n",
      "Epoch 44/100\n",
      "16504/16504 [==============================] - 3s 155us/sample - loss: 283.7412 - mae: 12.9517 - val_loss: 213.0054 - val_mae: 10.9411\n",
      "Epoch 45/100\n",
      "16504/16504 [==============================] - 2s 145us/sample - loss: 285.1224 - mae: 12.9929 - val_loss: 211.1611 - val_mae: 10.6457\n",
      "Epoch 46/100\n",
      "16504/16504 [==============================] - 3s 163us/sample - loss: 281.4468 - mae: 12.8121 - val_loss: 210.8249 - val_mae: 10.588381.5 - ETA: 0s - loss: 281.9895 - mae: 1\n",
      "Epoch 47/100\n",
      "16504/16504 [==============================] - 3s 161us/sample - loss: 279.7857 - mae: 12.8257 - val_loss: 210.9440 - val_mae: 10.6084\n",
      "Epoch 48/100\n",
      "16504/16504 [==============================] - 3s 153us/sample - loss: 284.5535 - mae: 12.8991 - val_loss: 210.0263 - val_mae: 10.3853\n",
      "Epoch 49/100\n",
      "16504/16504 [==============================] - 3s 170us/sample - loss: 280.1860 - mae: 12.7266 - val_loss: 209.8725 - val_mae: 10.418967 - ETA: 0s - loss: 280.0\n",
      "Epoch 50/100\n",
      "16504/16504 [==============================] - 3s 173us/sample - loss: 281.0500 - mae: 12.8646 - val_loss: 209.5724 - val_mae: 10.3022\n",
      "Epoch 51/100\n",
      "16504/16504 [==============================] - 3s 176us/sample - loss: 279.2185 - mae: 12.7572 - val_loss: 209.9536 - val_mae: 10.3907\n",
      "Epoch 52/100\n",
      "16504/16504 [==============================] - 2s 149us/sample - loss: 275.4360 - mae: 12.6824 - val_loss: 210.2747 - val_mae: 10.4758os\n",
      "Epoch 53/100\n",
      "16504/16504 [==============================] - 3s 164us/sample - loss: 279.1852 - mae: 12.8320 - val_loss: 210.5739 - val_mae: 10.6234\n",
      "Epoch 54/100\n",
      "16504/16504 [==============================] - 3s 160us/sample - loss: 283.4523 - mae: 12.8792 - val_loss: 209.7094 - val_mae: 10.3506\n",
      "Epoch 55/100\n",
      "16504/16504 [==============================] - 2s 145us/sample - loss: 279.2759 - mae: 12.7373 - val_loss: 209.6303 - val_mae: 10.3639 loss:\n"
     ]
    }
   ],
   "source": [
    "\n",
    "import numpy as np\n",
    "import pandas as pd\n",
    "import tensorflow as tf\n",
    "from tensorflow import keras\n",
    "from tensorflow.keras import layers\n",
    "from tensorflow.keras.callbacks import ReduceLROnPlateau, EarlyStopping\n",
    "from tensorflow.keras.regularizers import l2\n",
    "\n",
    "\n",
    "def create_model(input_shape):\n",
    "    model = keras.Sequential([\n",
    "        layers.Dense(128, activation=\"relu\", input_shape=(input_shape,)),\n",
    "        layers.BatchNormalization(),  \n",
    "        layers.Dropout(0.2),\n",
    "        \n",
    "        layers.Dense(64, activation=\"relu\"),\n",
    "        layers.BatchNormalization(),  \n",
    "        layers.Dropout(0.2),\n",
    "        \n",
    "        layers.Dense(1)  # Output -> RUL \n",
    "    ])\n",
    "    \n",
    "    optimizer = keras.optimizers.Adam(learning_rate=0.00005)\n",
    "    model.compile(optimizer=optimizer, loss=\"mse\", metrics=['mae'])\n",
    "    return model\n",
    "\n",
    "\n",
    "lr_scheduler = tf.keras.callbacks.ReduceLROnPlateau(monitor='val_loss', factor=0.5, patience=2)\n",
    "\n",
    "early_stop = EarlyStopping(monitor='val_loss', patience=5, restore_best_weights=True)\n",
    "\n",
    "nn_model = create_model(X_train.shape[1])\n",
    "nn_history = nn_model.fit(\n",
    "        X_train, y_train, \n",
    "        epochs=100, batch_size=32, verbose=1, \n",
    "        validation_data=(X_test, y_test), \n",
    "        callbacks=[early_stop, lr_scheduler]\n",
    "    )"
   ]
  },
  {
   "cell_type": "code",
   "execution_count": 43,
   "id": "045b8b70-44fa-4632-9bcb-4f023917482d",
   "metadata": {},
   "outputs": [],
   "source": [
    "y_nn_test_pred = nn_model.predict(X_test).flatten()\n",
    "y_nn_train_pred = nn_model.predict(X_train).flatten()\n"
   ]
  },
  {
   "cell_type": "code",
   "execution_count": null,
   "id": "95c5f444-3a9e-47c3-bb57-0fdc69893d98",
   "metadata": {},
   "outputs": [
    {
     "data": {
      "text/plain": [
       "<matplotlib.legend.Legend at 0x15381d40f28>"
      ]
     },
     "execution_count": 44,
     "metadata": {},
     "output_type": "execute_result"
    },
    {
     "data": {
      "image/png": "[encoded data removed]",
      "text/plain": [
       "<Figure size 864x360 with 1 Axes>"
      ]
     },
     "metadata": {
      "needs_background": "light"
     },
     "output_type": "display_data"
    }
   ],
   "source": [
    "import numpy as np\n",
    "import matplotlib.pyplot as plt\n",
    "import seaborn as sns\n",
    "from sklearn.metrics import mean_absolute_error, mean_squared_error, r2_score\n",
    "\n",
    "\n",
    "# Plot Training & Validation Loss\n",
    "plt.figure(figsize=(12, 5))\n",
    "plt.subplot(1, 2, 1)\n",
    "plt.plot(nn_history.history['loss'], label=\"Training Loss\", color='blue')\n",
    "plt.plot(nn_history.history['val_loss'], label=\"Validation Loss\", color='red')\n",
    "plt.xlabel(\"Epochs\")\n",
    "plt.ylabel(\"MSE Loss\")\n",
    "plt.title(\"Training vs Validation Loss\")\n",
    "plt.legend()"
   ]
  },
  {
   "cell_type": "code",
   "execution_count": 45,
   "id": "c13a5050-4c0d-4fae-bed1-c9e0139e60fa",
   "metadata": {},
   "outputs": [
    {
     "data": {
      "image/png": "[encoded data removed]",
      "text/plain": [
       "<Figure size 432x288 with 1 Axes>"
      ]
     },
     "metadata": {
      "needs_background": "light"
     },
     "output_type": "display_data"
    }
   ],
   "source": [
    "# Plot Training & Validation MAE\n",
    "plt.subplot(1, 2, 2)\n",
    "plt.plot(nn_history.history['mae'], label=\"Training MAE\", color='blue')\n",
    "plt.plot(nn_history.history['val_mae'], label=\"Validation MAE\", color='red')\n",
    "plt.xlabel(\"Epochs\")\n",
    "plt.ylabel(\"Mean Absolute Error (MAE)\")\n",
    "plt.title(\"Training vs Validation MAE\")\n",
    "plt.legend()\n",
    "\n",
    "plt.show()"
   ]
  },
  {
   "cell_type": "code",
   "execution_count": null,
   "id": "5d1701e1-0c98-4660-b629-9cd6d41eed1d",
   "metadata": {},
   "outputs": [
    {
     "name": "stdout",
     "output_type": "stream",
     "text": [
      "Final Training MAE: 12.74\n",
      "Final Validation MAE: 10.36\n"
     ]
    }
   ],
   "source": [
    "train_mae = nn_history.history['mae'][-1]\n",
    "val_mae = nn_history.history['val_mae'][-1]\n",
    "print(f\"Final Training MAE: {train_mae:.2f}\")\n",
    "print(f\"Final Validation MAE: {val_mae:.2f}\")\n",
    "\n",
    "if val_mae > train_mae * 1.5:\n",
    "    print(\"⚠ Warning: Model may be overfitting. Consider adding regularization or dropout.\")\n"
   ]
  },
  {
   "cell_type": "code",
   "execution_count": null,
   "id": "66102403-805a-4d13-a224-adfdb67cbe09",
   "metadata": {},
   "outputs": [
    {
     "data": {
      "image/png": "[encoded data removed]",
      "text/plain": [
       "<Figure size 576x432 with 1 Axes>"
      ]
     },
     "metadata": {
      "needs_background": "light"
     },
     "output_type": "display_data"
    }
   ],
   "source": [
    "\n",
    "y_nn_test_pred = nn_model.predict(X_test).flatten()\n",
    "\n",
    "plt.figure(figsize=(8, 6))\n",
    "sns.scatterplot(x=y_test, y=y_nn_test_pred, alpha=0.7, color=\"blue\")\n",
    "plt.plot([y_test.min(), y_test.max()], [y_test.min(), y_test.max()], 'r--', label=\"Perfect Fit\")\n",
    "plt.xlabel(\"Actual RUL\")\n",
    "plt.ylabel(\"Predicted RUL\")\n",
    "plt.title(\"Predicted vs Actual RUL\")\n",
    "plt.legend()\n",
    "plt.show()\n"
   ]
  },
  {
   "cell_type": "code",
   "execution_count": null,
   "id": "3165214a-b877-4471-95e8-8b22445d88a4",
   "metadata": {},
   "outputs": [
    {
     "name": "stdout",
     "output_type": "stream",
     "text": [
      "Predicted RUL: 35.17, Actual RUL: 40\n"
     ]
    }
   ],
   "source": [
    "sample_idx = 12  \n",
    "predicted_rul = nn_model.predict(X_test[sample_idx].reshape(1, -1))\n",
    "actual_rul = y_test[sample_idx]\n",
    "\n",
    "print(f\"Predicted RUL: {predicted_rul[0][0]:.2f}, Actual RUL: {actual_rul}\")\n"
   ]
  },
  {
   "cell_type": "code",
   "execution_count": null,
   "id": "15534d3d-5aa7-44f7-ac85-6f696e84d0ed",
   "metadata": {},
   "outputs": [
    {
     "data": {
      "image/png": "[encoded data removed]",
      "text/plain": [
       "<Figure size 432x288 with 1 Axes>"
      ]
     },
     "metadata": {
      "needs_background": "light"
     },
     "output_type": "display_data"
    }
   ],
   "source": [
    "import matplotlib.pyplot as plt\n",
    "import numpy as np\n",
    "\n",
    "sample_idx = 19  \n",
    "predicted_rul = nn_model.predict(X_test[sample_idx].reshape(1, -1))\n",
    "actual_rul = y_test[sample_idx]\n",
    "\n",
    "# Plot\n",
    "plt.bar([\"Actual RUL\", \"Predicted RUL\"], [actual_rul, predicted_rul[0][0]], color=['blue', 'orange'])\n",
    "plt.ylabel(\"Remaining Useful Life (RUL)\")\n",
    "plt.title(f\"Comparison for Engine Unit {sample_idx}\")\n",
    "plt.ylim(0, max(actual_rul, predicted_rul[0][0]) + 20)\n",
    "plt.show()\n"
   ]
  },
  {
   "cell_type": "code",
   "execution_count": 50,
   "id": "4866367e-5fee-4341-a7e4-172127970c47",
   "metadata": {},
   "outputs": [
    {
     "name": "stdout",
     "output_type": "stream",
     "text": [
      "4127/4127 [==============================] - 0s 113us/sample - loss: 209.5724 - mae: 10.3022\n",
      "Test Loss: 209.57239967089228, Test MAE: 10.302154541015625\n"
     ]
    }
   ],
   "source": [
    "test_loss, test_mae = nn_model.evaluate(X_test, y_test)\n",
    "print(f\"Test Loss: {test_loss}, Test MAE: {test_mae}\")\n"
   ]
  },
  {
   "cell_type": "markdown",
   "id": "9f07bdee-6f15-40f9-82e5-92629367b073",
   "metadata": {
    "tags": []
   },
   "source": [
    "# Evaluate The Model"
   ]
  },
  {
   "cell_type": "code",
   "execution_count": null,
   "id": "afc6d270-26fe-451d-9e29-6653f1384722",
   "metadata": {},
   "outputs": [
    {
     "name": "stdout",
     "output_type": "stream",
     "text": [
      "LR MSE (Train) 287.840012971155\n",
      "LR R2 (Train) 0.7043253084592217\n",
      "LR RMSE (Train) 16.96584843063131\n",
      "LR MSE (Test) 291.6843274680559\n",
      "LR R2 (Test) 0.6891987289495902\n",
      "LR RMSE (Test) 17.078768324093396\n"
     ]
    }
   ],
   "source": [
    "from sklearn.metrics import mean_squared_error, r2_score\n",
    "\n",
    "lr_train_mse=mean_squared_error(y_train,y_lr_train_prediction)\n",
    "lr_train_r2=r2_score(y_train,y_lr_train_prediction)\n",
    "\n",
    "lr_test_mse=mean_squared_error(y_test,y_lr_test_prediction)\n",
    "lr_test_r2=r2_score(y_test,y_lr_test_prediction)\n",
    "\n",
    "\n",
    "lr_rmse_train = np.sqrt(mean_squared_error(y_train, y_lr_train_prediction))\n",
    "lr_rmse_test = np.sqrt(mean_squared_error(y_test, y_lr_test_prediction))\n",
    "\n",
    "print('LR MSE (Train)',lr_train_mse)\n",
    "print('LR R2 (Train)',lr_train_r2)\n",
    "print('LR RMSE (Train)',lr_rmse_train)\n",
    "\n",
    "print('LR MSE (Test)',lr_test_mse)\n",
    "print('LR R2 (Test)',lr_test_r2)\n",
    "print('LR RMSE (Test)',lr_rmse_test)"
   ]
  },
  {
   "cell_type": "code",
   "execution_count": null,
   "id": "5a01dbd3-7ad4-4665-b6c0-1c7ab24abf12",
   "metadata": {},
   "outputs": [
    {
     "data": {
      "text/html": [
       "<div>\n",
       "<style scoped>\n",
       "    .dataframe tbody tr th:only-of-type {\n",
       "        vertical-align: middle;\n",
       "    }\n",
       "\n",
       "    .dataframe tbody tr th {\n",
       "        vertical-align: top;\n",
       "    }\n",
       "\n",
       "    .dataframe thead th {\n",
       "        text-align: right;\n",
       "    }\n",
       "</style>\n",
       "<table border=\"1\" class=\"dataframe\">\n",
       "  <thead>\n",
       "    <tr style=\"text-align: right;\">\n",
       "      <th></th>\n",
       "      <th>Method</th>\n",
       "      <th>Training MSE</th>\n",
       "      <th>Training R2</th>\n",
       "      <th>Training RMSE</th>\n",
       "      <th>Test MSE</th>\n",
       "      <th>Test R2</th>\n",
       "      <th>Test RMSE</th>\n",
       "    </tr>\n",
       "  </thead>\n",
       "  <tbody>\n",
       "    <tr>\n",
       "      <th>0</th>\n",
       "      <td>Linear regression</td>\n",
       "      <td>287.84</td>\n",
       "      <td>0.704325</td>\n",
       "      <td>16.9658</td>\n",
       "      <td>291.684</td>\n",
       "      <td>0.689199</td>\n",
       "      <td>17.0788</td>\n",
       "    </tr>\n",
       "  </tbody>\n",
       "</table>\n",
       "</div>"
      ],
      "text/plain": [
       "              Method Training MSE Training R2 Training RMSE Test MSE  \\\n",
       "0  Linear regression       287.84    0.704325       16.9658  291.684   \n",
       "\n",
       "    Test R2 Test RMSE  \n",
       "0  0.689199   17.0788  "
      ]
     },
     "execution_count": 52,
     "metadata": {},
     "output_type": "execute_result"
    }
   ],
   "source": [
    "lr_results=pd.DataFrame(['Linear regression',lr_train_mse,lr_train_r2,lr_rmse_train,lr_test_mse,lr_test_r2,lr_rmse_test]).transpose()\n",
    "\n",
    "lr_results.columns=['Method','Training MSE','Training R2','Training RMSE','Test MSE','Test R2','Test RMSE']\n",
    "lr_results"
   ]
  },
  {
   "cell_type": "code",
   "execution_count": null,
   "id": "4e0119dc-409b-4e5b-9627-1fb70a37f5d1",
   "metadata": {},
   "outputs": [
    {
     "name": "stdout",
     "output_type": "stream",
     "text": [
      "RF MSE (Train) 216.38642478163828\n",
      "RF R2 (Train) 0.777723782247973\n",
      "RF RMSE (Train) 14.710079020237732\n",
      "RF MSE (Test) 227.18801436219204\n",
      "RF R2 (Test) 0.7579221199708751\n",
      "RF MSE (Test) 15.072757357636725\n"
     ]
    }
   ],
   "source": [
    "from sklearn.metrics import mean_squared_error, r2_score, mean_squared_error\n",
    "\n",
    "rf_train_mse = mean_squared_error(y_train, y_rf_train_pred)\n",
    "rf_train_r2 = r2_score(y_train, y_rf_train_pred)\n",
    "\n",
    "rf_test_mse = mean_squared_error(y_test, y_rf_test_pred)\n",
    "rf_test_r2 = r2_score(y_test, y_rf_test_pred)\n",
    "\n",
    "rf_rmse_train = np.sqrt(mean_squared_error(y_train, y_rf_train_pred))\n",
    "rf_rmse_test = np.sqrt(mean_squared_error(y_test, y_rf_test_pred))\n",
    "\n",
    "print('RF MSE (Train)',rf_train_mse)\n",
    "print('RF R2 (Train)',rf_train_r2)\n",
    "print('RF RMSE (Train)',rf_rmse_train)\n",
    "\n",
    "print('RF MSE (Test)',rf_test_mse)\n",
    "print('RF R2 (Test)',rf_test_r2)\n",
    "print('RF MSE (Test)',rf_rmse_test)"
   ]
  },
  {
   "cell_type": "code",
   "execution_count": null,
   "id": "f29bf367-f448-4e3e-9ea8-30eba7f4f50f",
   "metadata": {},
   "outputs": [
    {
     "data": {
      "text/html": [
       "<div>\n",
       "<style scoped>\n",
       "    .dataframe tbody tr th:only-of-type {\n",
       "        vertical-align: middle;\n",
       "    }\n",
       "\n",
       "    .dataframe tbody tr th {\n",
       "        vertical-align: top;\n",
       "    }\n",
       "\n",
       "    .dataframe thead th {\n",
       "        text-align: right;\n",
       "    }\n",
       "</style>\n",
       "<table border=\"1\" class=\"dataframe\">\n",
       "  <thead>\n",
       "    <tr style=\"text-align: right;\">\n",
       "      <th></th>\n",
       "      <th>Method</th>\n",
       "      <th>Training MSE</th>\n",
       "      <th>Training R2</th>\n",
       "      <th>Training RMSE</th>\n",
       "      <th>Test MSE</th>\n",
       "      <th>Test R2</th>\n",
       "      <th>Test RMSE</th>\n",
       "    </tr>\n",
       "  </thead>\n",
       "  <tbody>\n",
       "    <tr>\n",
       "      <th>0</th>\n",
       "      <td>Random forest</td>\n",
       "      <td>216.386</td>\n",
       "      <td>0.777724</td>\n",
       "      <td>14.7101</td>\n",
       "      <td>227.188</td>\n",
       "      <td>0.757922</td>\n",
       "      <td>15.0728</td>\n",
       "    </tr>\n",
       "  </tbody>\n",
       "</table>\n",
       "</div>"
      ],
      "text/plain": [
       "          Method Training MSE Training R2 Training RMSE Test MSE   Test R2  \\\n",
       "0  Random forest      216.386    0.777724       14.7101  227.188  0.757922   \n",
       "\n",
       "  Test RMSE  \n",
       "0   15.0728  "
      ]
     },
     "execution_count": 54,
     "metadata": {},
     "output_type": "execute_result"
    }
   ],
   "source": [
    "rf_results = pd.DataFrame(['Random forest', rf_train_mse, rf_train_r2,rf_rmse_train, rf_test_mse, rf_test_r2,rf_rmse_test]).transpose()\n",
    "\n",
    "rf_results.columns = ['Method','Training MSE','Training R2','Training RMSE','Test MSE','Test R2','Test RMSE']\n",
    "rf_results"
   ]
  },
  {
   "cell_type": "code",
   "execution_count": null,
   "id": "a04d34d8-70c4-4e6b-97a6-cef3f4dd2d41",
   "metadata": {},
   "outputs": [
    {
     "name": "stdout",
     "output_type": "stream",
     "text": [
      "SVR MSE (Train) 223.8859601652557\n",
      "SVR R2 (Train) 0.7700201180201909\n",
      "SVR RMSE (Train) 14.962819258590798\n",
      "SVR MSE (Test) 228.33027094562357\n",
      "SVR R2 (Test) 0.7567050000759603\n",
      "SVR MSE (Test) 15.110601276773323\n"
     ]
    }
   ],
   "source": [
    "svr_train_mse = mean_squared_error(y_train, y_svr_train_pred)\n",
    "svr_train_r2 = r2_score(y_train, y_svr_train_pred)\n",
    "\n",
    "svr_test_mse = mean_squared_error(y_test, y_svr_test_pred)\n",
    "svr_test_r2 = r2_score(y_test, y_svr_test_pred)\n",
    "\n",
    "svr_rmse_train = np.sqrt(mean_squared_error(y_train, y_svr_train_pred))\n",
    "svr_rmse_test = np.sqrt(mean_squared_error(y_test, y_svr_test_pred))\n",
    "\n",
    "print('SVR MSE (Train)',svr_train_mse)\n",
    "print('SVR R2 (Train)',svr_train_r2)\n",
    "print('SVR RMSE (Train)',svr_rmse_train)\n",
    "\n",
    "print('SVR MSE (Test)',svr_test_mse)\n",
    "print('SVR R2 (Test)',svr_test_r2)\n",
    "print('SVR MSE (Test)',svr_rmse_test)"
   ]
  },
  {
   "cell_type": "code",
   "execution_count": null,
   "id": "a191c55a-e58f-4621-baeb-d0cef85d3d78",
   "metadata": {},
   "outputs": [
    {
     "data": {
      "text/html": [
       "<div>\n",
       "<style scoped>\n",
       "    .dataframe tbody tr th:only-of-type {\n",
       "        vertical-align: middle;\n",
       "    }\n",
       "\n",
       "    .dataframe tbody tr th {\n",
       "        vertical-align: top;\n",
       "    }\n",
       "\n",
       "    .dataframe thead th {\n",
       "        text-align: right;\n",
       "    }\n",
       "</style>\n",
       "<table border=\"1\" class=\"dataframe\">\n",
       "  <thead>\n",
       "    <tr style=\"text-align: right;\">\n",
       "      <th></th>\n",
       "      <th>Method</th>\n",
       "      <th>Training MSE</th>\n",
       "      <th>Training R2</th>\n",
       "      <th>Training RMSE</th>\n",
       "      <th>Test MSE</th>\n",
       "      <th>Test R2</th>\n",
       "      <th>Test RMSE</th>\n",
       "    </tr>\n",
       "  </thead>\n",
       "  <tbody>\n",
       "    <tr>\n",
       "      <th>0</th>\n",
       "      <td>Support Vector Regression</td>\n",
       "      <td>223.886</td>\n",
       "      <td>0.77002</td>\n",
       "      <td>14.9628</td>\n",
       "      <td>228.33</td>\n",
       "      <td>0.756705</td>\n",
       "      <td>15.1106</td>\n",
       "    </tr>\n",
       "  </tbody>\n",
       "</table>\n",
       "</div>"
      ],
      "text/plain": [
       "                      Method Training MSE Training R2 Training RMSE Test MSE  \\\n",
       "0  Support Vector Regression      223.886     0.77002       14.9628   228.33   \n",
       "\n",
       "    Test R2 Test RMSE  \n",
       "0  0.756705   15.1106  "
      ]
     },
     "execution_count": 56,
     "metadata": {},
     "output_type": "execute_result"
    }
   ],
   "source": [
    "svr_results = pd.DataFrame(['Support Vector Regression', svr_train_mse, svr_train_r2,svr_rmse_train, svr_test_mse, svr_test_r2,svr_rmse_test]).transpose()\n",
    "\n",
    "svr_results.columns = ['Method','Training MSE','Training R2','Training RMSE','Test MSE','Test R2','Test RMSE']\n",
    "svr_results"
   ]
  },
  {
   "cell_type": "code",
   "execution_count": null,
   "id": "46ad936c-9b60-403a-8b8c-745dac3b7ae5",
   "metadata": {},
   "outputs": [
    {
     "name": "stdout",
     "output_type": "stream",
     "text": [
      "NN MSE (Train) 204.67822508302237\n",
      "NN R2 (Train) 0.7897506658582548\n",
      "NN RMSE (Train) 14.306579782848953\n",
      "SVR MSE (Test) 209.572399569042\n",
      "SVR R2 (Test) 0.7766922593046212\n",
      "SVR MSE (Test) 14.476615611704347\n"
     ]
    }
   ],
   "source": [
    "\n",
    "\n",
    "nn_train_mse = mean_squared_error(y_train, y_nn_train_pred)\n",
    "nn_train_r2 = r2_score(y_train, y_nn_train_pred)\n",
    "\n",
    "nn_test_mse = mean_squared_error(y_test, y_nn_test_pred)\n",
    "nn_test_r2 = r2_score(y_test, y_nn_test_pred)\n",
    "\n",
    "\n",
    "nn_rmse_train = np.sqrt(mean_squared_error(y_train, y_nn_train_pred))\n",
    "nn_rmse_test = np.sqrt(mean_squared_error(y_test, y_nn_test_pred))\n",
    "\n",
    "print('NN MSE (Train)',nn_train_mse)\n",
    "print('NN R2 (Train)',nn_train_r2)\n",
    "print('NN RMSE (Train)',nn_rmse_train)\n",
    "\n",
    "print('SVR MSE (Test)',nn_test_mse)\n",
    "print('SVR R2 (Test)',nn_test_r2)\n",
    "print('SVR MSE (Test)',nn_rmse_test)"
   ]
  },
  {
   "cell_type": "code",
   "execution_count": null,
   "id": "09e3ddfa-a17a-46fa-abc5-d6e6ef915801",
   "metadata": {},
   "outputs": [
    {
     "data": {
      "text/html": [
       "<div>\n",
       "<style scoped>\n",
       "    .dataframe tbody tr th:only-of-type {\n",
       "        vertical-align: middle;\n",
       "    }\n",
       "\n",
       "    .dataframe tbody tr th {\n",
       "        vertical-align: top;\n",
       "    }\n",
       "\n",
       "    .dataframe thead th {\n",
       "        text-align: right;\n",
       "    }\n",
       "</style>\n",
       "<table border=\"1\" class=\"dataframe\">\n",
       "  <thead>\n",
       "    <tr style=\"text-align: right;\">\n",
       "      <th></th>\n",
       "      <th>Method</th>\n",
       "      <th>Training MSE</th>\n",
       "      <th>Training R2</th>\n",
       "      <th>Training RMSE</th>\n",
       "      <th>Test MSE</th>\n",
       "      <th>Test R2</th>\n",
       "      <th>Test RMSE</th>\n",
       "    </tr>\n",
       "  </thead>\n",
       "  <tbody>\n",
       "    <tr>\n",
       "      <th>0</th>\n",
       "      <td>Neural Network</td>\n",
       "      <td>204.678</td>\n",
       "      <td>0.789751</td>\n",
       "      <td>14.3066</td>\n",
       "      <td>209.572</td>\n",
       "      <td>0.776692</td>\n",
       "      <td>14.4766</td>\n",
       "    </tr>\n",
       "  </tbody>\n",
       "</table>\n",
       "</div>"
      ],
      "text/plain": [
       "           Method Training MSE Training R2 Training RMSE Test MSE   Test R2  \\\n",
       "0  Neural Network      204.678    0.789751       14.3066  209.572  0.776692   \n",
       "\n",
       "  Test RMSE  \n",
       "0   14.4766  "
      ]
     },
     "execution_count": 58,
     "metadata": {},
     "output_type": "execute_result"
    }
   ],
   "source": [
    "nn_results = pd.DataFrame(['Neural Network', nn_train_mse, nn_train_r2,nn_rmse_train, nn_test_mse, nn_test_r2,nn_rmse_test]).transpose()\n",
    "nn_results.columns = ['Method','Training MSE','Training R2','Training RMSE','Test MSE','Test R2','Test RMSE']\n",
    "nn_results"
   ]
  },
  {
   "cell_type": "markdown",
   "id": "52eda9fb-c6ae-4d7d-8249-1350cc7b9ae4",
   "metadata": {
    "tags": []
   },
   "source": [
    "# Model comparison"
   ]
  },
  {
   "cell_type": "code",
   "execution_count": 59,
   "id": "2d1c0a99-6776-44eb-b239-25885ecd7129",
   "metadata": {},
   "outputs": [],
   "source": [
    "#combined the reults from the 3 models in the same table\n",
    "data_frame_models = pd.concat([lr_results, rf_results,svr_results,nn_results], axis=0).reset_index(drop=True)"
   ]
  },
  {
   "cell_type": "code",
   "execution_count": 60,
   "id": "de21a931-6a83-4779-b41c-d0c44025c665",
   "metadata": {
    "tags": []
   },
   "outputs": [
    {
     "data": {
      "text/html": [
       "<div>\n",
       "<style scoped>\n",
       "    .dataframe tbody tr th:only-of-type {\n",
       "        vertical-align: middle;\n",
       "    }\n",
       "\n",
       "    .dataframe tbody tr th {\n",
       "        vertical-align: top;\n",
       "    }\n",
       "\n",
       "    .dataframe thead th {\n",
       "        text-align: right;\n",
       "    }\n",
       "</style>\n",
       "<table border=\"1\" class=\"dataframe\">\n",
       "  <thead>\n",
       "    <tr style=\"text-align: right;\">\n",
       "      <th></th>\n",
       "      <th>Method</th>\n",
       "      <th>Training MSE</th>\n",
       "      <th>Training R2</th>\n",
       "      <th>Training RMSE</th>\n",
       "      <th>Test MSE</th>\n",
       "      <th>Test R2</th>\n",
       "      <th>Test RMSE</th>\n",
       "    </tr>\n",
       "  </thead>\n",
       "  <tbody>\n",
       "    <tr>\n",
       "      <th>0</th>\n",
       "      <td>Linear regression</td>\n",
       "      <td>287.84</td>\n",
       "      <td>0.704325</td>\n",
       "      <td>16.9658</td>\n",
       "      <td>291.684</td>\n",
       "      <td>0.689199</td>\n",
       "      <td>17.0788</td>\n",
       "    </tr>\n",
       "    <tr>\n",
       "      <th>1</th>\n",
       "      <td>Random forest</td>\n",
       "      <td>216.386</td>\n",
       "      <td>0.777724</td>\n",
       "      <td>14.7101</td>\n",
       "      <td>227.188</td>\n",
       "      <td>0.757922</td>\n",
       "      <td>15.0728</td>\n",
       "    </tr>\n",
       "    <tr>\n",
       "      <th>2</th>\n",
       "      <td>Support Vector Regression</td>\n",
       "      <td>223.886</td>\n",
       "      <td>0.77002</td>\n",
       "      <td>14.9628</td>\n",
       "      <td>228.33</td>\n",
       "      <td>0.756705</td>\n",
       "      <td>15.1106</td>\n",
       "    </tr>\n",
       "    <tr>\n",
       "      <th>3</th>\n",
       "      <td>Neural Network</td>\n",
       "      <td>204.678</td>\n",
       "      <td>0.789751</td>\n",
       "      <td>14.3066</td>\n",
       "      <td>209.572</td>\n",
       "      <td>0.776692</td>\n",
       "      <td>14.4766</td>\n",
       "    </tr>\n",
       "  </tbody>\n",
       "</table>\n",
       "</div>"
      ],
      "text/plain": [
       "                      Method Training MSE Training R2 Training RMSE Test MSE  \\\n",
       "0          Linear regression       287.84    0.704325       16.9658  291.684   \n",
       "1              Random forest      216.386    0.777724       14.7101  227.188   \n",
       "2  Support Vector Regression      223.886     0.77002       14.9628   228.33   \n",
       "3             Neural Network      204.678    0.789751       14.3066  209.572   \n",
       "\n",
       "    Test R2 Test RMSE  \n",
       "0  0.689199   17.0788  \n",
       "1  0.757922   15.0728  \n",
       "2  0.756705   15.1106  \n",
       "3  0.776692   14.4766  "
      ]
     },
     "execution_count": 60,
     "metadata": {},
     "output_type": "execute_result"
    }
   ],
   "source": [
    "data_frame_models"
   ]
  },
  {
   "cell_type": "code",
   "execution_count": null,
   "id": "fb647037-f041-4f70-bdc9-8ab9ed9e67e6",
   "metadata": {
    "tags": []
   },
   "outputs": [
    {
     "data": {
      "text/html": [
       "<style  type=\"text/css\" >\n",
       "#T_44dd0612_075b_11f0_a2fb_8c8caaa5a3ebrow3_col1,#T_44dd0612_075b_11f0_a2fb_8c8caaa5a3ebrow3_col2,#T_44dd0612_075b_11f0_a2fb_8c8caaa5a3ebrow3_col3,#T_44dd0612_075b_11f0_a2fb_8c8caaa5a3ebrow3_col4,#T_44dd0612_075b_11f0_a2fb_8c8caaa5a3ebrow3_col5,#T_44dd0612_075b_11f0_a2fb_8c8caaa5a3ebrow3_col6{\n",
       "            font-weight:  bold;\n",
       "        }</style><table id=\"T_44dd0612_075b_11f0_a2fb_8c8caaa5a3eb\" ><thead>    <tr>        <th class=\"blank level0\" ></th>        <th class=\"col_heading level0 col0\" >Method</th>        <th class=\"col_heading level0 col1\" >Training MSE</th>        <th class=\"col_heading level0 col2\" >Training R2</th>        <th class=\"col_heading level0 col3\" >Training RMSE</th>        <th class=\"col_heading level0 col4\" >Test MSE</th>        <th class=\"col_heading level0 col5\" >Test R2</th>        <th class=\"col_heading level0 col6\" >Test RMSE</th>    </tr></thead><tbody>\n",
       "                <tr>\n",
       "                        <th id=\"T_44dd0612_075b_11f0_a2fb_8c8caaa5a3eblevel0_row0\" class=\"row_heading level0 row0\" >0</th>\n",
       "                        <td id=\"T_44dd0612_075b_11f0_a2fb_8c8caaa5a3ebrow0_col0\" class=\"data row0 col0\" >Linear regression</td>\n",
       "                        <td id=\"T_44dd0612_075b_11f0_a2fb_8c8caaa5a3ebrow0_col1\" class=\"data row0 col1\" >287.840013</td>\n",
       "                        <td id=\"T_44dd0612_075b_11f0_a2fb_8c8caaa5a3ebrow0_col2\" class=\"data row0 col2\" >0.704325</td>\n",
       "                        <td id=\"T_44dd0612_075b_11f0_a2fb_8c8caaa5a3ebrow0_col3\" class=\"data row0 col3\" >16.965848</td>\n",
       "                        <td id=\"T_44dd0612_075b_11f0_a2fb_8c8caaa5a3ebrow0_col4\" class=\"data row0 col4\" >291.684327</td>\n",
       "                        <td id=\"T_44dd0612_075b_11f0_a2fb_8c8caaa5a3ebrow0_col5\" class=\"data row0 col5\" >0.689199</td>\n",
       "                        <td id=\"T_44dd0612_075b_11f0_a2fb_8c8caaa5a3ebrow0_col6\" class=\"data row0 col6\" >17.078768</td>\n",
       "            </tr>\n",
       "            <tr>\n",
       "                        <th id=\"T_44dd0612_075b_11f0_a2fb_8c8caaa5a3eblevel0_row1\" class=\"row_heading level0 row1\" >1</th>\n",
       "                        <td id=\"T_44dd0612_075b_11f0_a2fb_8c8caaa5a3ebrow1_col0\" class=\"data row1 col0\" >Random forest</td>\n",
       "                        <td id=\"T_44dd0612_075b_11f0_a2fb_8c8caaa5a3ebrow1_col1\" class=\"data row1 col1\" >216.386425</td>\n",
       "                        <td id=\"T_44dd0612_075b_11f0_a2fb_8c8caaa5a3ebrow1_col2\" class=\"data row1 col2\" >0.777724</td>\n",
       "                        <td id=\"T_44dd0612_075b_11f0_a2fb_8c8caaa5a3ebrow1_col3\" class=\"data row1 col3\" >14.710079</td>\n",
       "                        <td id=\"T_44dd0612_075b_11f0_a2fb_8c8caaa5a3ebrow1_col4\" class=\"data row1 col4\" >227.188014</td>\n",
       "                        <td id=\"T_44dd0612_075b_11f0_a2fb_8c8caaa5a3ebrow1_col5\" class=\"data row1 col5\" >0.757922</td>\n",
       "                        <td id=\"T_44dd0612_075b_11f0_a2fb_8c8caaa5a3ebrow1_col6\" class=\"data row1 col6\" >15.072757</td>\n",
       "            </tr>\n",
       "            <tr>\n",
       "                        <th id=\"T_44dd0612_075b_11f0_a2fb_8c8caaa5a3eblevel0_row2\" class=\"row_heading level0 row2\" >2</th>\n",
       "                        <td id=\"T_44dd0612_075b_11f0_a2fb_8c8caaa5a3ebrow2_col0\" class=\"data row2 col0\" >Support Vector Regression</td>\n",
       "                        <td id=\"T_44dd0612_075b_11f0_a2fb_8c8caaa5a3ebrow2_col1\" class=\"data row2 col1\" >223.885960</td>\n",
       "                        <td id=\"T_44dd0612_075b_11f0_a2fb_8c8caaa5a3ebrow2_col2\" class=\"data row2 col2\" >0.770020</td>\n",
       "                        <td id=\"T_44dd0612_075b_11f0_a2fb_8c8caaa5a3ebrow2_col3\" class=\"data row2 col3\" >14.962819</td>\n",
       "                        <td id=\"T_44dd0612_075b_11f0_a2fb_8c8caaa5a3ebrow2_col4\" class=\"data row2 col4\" >228.330271</td>\n",
       "                        <td id=\"T_44dd0612_075b_11f0_a2fb_8c8caaa5a3ebrow2_col5\" class=\"data row2 col5\" >0.756705</td>\n",
       "                        <td id=\"T_44dd0612_075b_11f0_a2fb_8c8caaa5a3ebrow2_col6\" class=\"data row2 col6\" >15.110601</td>\n",
       "            </tr>\n",
       "            <tr>\n",
       "                        <th id=\"T_44dd0612_075b_11f0_a2fb_8c8caaa5a3eblevel0_row3\" class=\"row_heading level0 row3\" >3</th>\n",
       "                        <td id=\"T_44dd0612_075b_11f0_a2fb_8c8caaa5a3ebrow3_col0\" class=\"data row3 col0\" >Neural Network</td>\n",
       "                        <td id=\"T_44dd0612_075b_11f0_a2fb_8c8caaa5a3ebrow3_col1\" class=\"data row3 col1\" >204.678225</td>\n",
       "                        <td id=\"T_44dd0612_075b_11f0_a2fb_8c8caaa5a3ebrow3_col2\" class=\"data row3 col2\" >0.789751</td>\n",
       "                        <td id=\"T_44dd0612_075b_11f0_a2fb_8c8caaa5a3ebrow3_col3\" class=\"data row3 col3\" >14.306580</td>\n",
       "                        <td id=\"T_44dd0612_075b_11f0_a2fb_8c8caaa5a3ebrow3_col4\" class=\"data row3 col4\" >209.572400</td>\n",
       "                        <td id=\"T_44dd0612_075b_11f0_a2fb_8c8caaa5a3ebrow3_col5\" class=\"data row3 col5\" >0.776692</td>\n",
       "                        <td id=\"T_44dd0612_075b_11f0_a2fb_8c8caaa5a3ebrow3_col6\" class=\"data row3 col6\" >14.476616</td>\n",
       "            </tr>\n",
       "    </tbody></table>"
      ],
      "text/plain": [
       "<pandas.io.formats.style.Styler at 0x15381d041d0>"
      ]
     },
     "execution_count": 61,
     "metadata": {},
     "output_type": "execute_result"
    }
   ],
   "source": [
    "import pandas as pd\n",
    "\n",
    "def highlight_min(s):\n",
    "    \"\"\"Highlight the minimum value in a column.\"\"\"\n",
    "    is_min = s == s.min()\n",
    "    return ['font-weight: bold' if cell else '' for cell in is_min]\n",
    "\n",
    "def highlight_max(s):\n",
    "    \"\"\"Highlight the maximum value in a column.\"\"\"\n",
    "    is_max = s == s.max()\n",
    "    return ['font-weight: bold' if cell else '' for cell in is_max]\n",
    "\n",
    "best_styled = (\n",
    "    data_frame_models.style\n",
    "    .apply(highlight_min, subset=['Training MSE', 'Training RMSE', 'Test MSE', 'Test RMSE'])\n",
    "    .apply(highlight_max, subset=['Training R2', 'Test R2'])\n",
    ")\n",
    "\n",
    "best_styled\n"
   ]
  },
  {
   "cell_type": "markdown",
   "id": "dacafea4-470d-408a-98e2-1a49b9298c08",
   "metadata": {
    "tags": []
   },
   "source": [
    "# Data visualization of prediction results"
   ]
  },
  {
   "cell_type": "code",
   "execution_count": 62,
   "id": "b7bd8fdb-7c07-4bf3-b31c-2334fd8e6ea9",
   "metadata": {},
   "outputs": [
    {
     "data": {
      "image/png": "[encoded data removed]",
      "text/plain": [
       "<Figure size 576x432 with 1 Axes>"
      ]
     },
     "metadata": {
      "needs_background": "light"
     },
     "output_type": "display_data"
    }
   ],
   "source": [
    "import matplotlib.pyplot as plt\n",
    "\n",
    "# Plot\n",
    "plt.figure(figsize=(8, 6))\n",
    "plt.scatter(y_test, y_lr_test_prediction, alpha=0.5, label=\"Linear Regression\", color='blue')\n",
    "plt.scatter(y_test, y_rf_test_pred, alpha=0.5, label=\"Random Forest\", color='green')\n",
    "plt.scatter(y_test, y_svr_test_pred, alpha=0.5, label=\"Support Vector Regression\", color='pink')\n",
    "plt.scatter(y_test, y_nn_test_pred, alpha=0.5, label=\"Neural Network\", color='yellow')\n",
    "plt.plot([min(y_test), max(y_test)], [min(y_test), max(y_test)], color='red', linestyle='dashed', label=\"Perfect Fit\")\n",
    "plt.xlabel(\"Actual Values\")\n",
    "plt.ylabel(\"Predicted Values\")\n",
    "plt.title(\"Actual vs Predicted Values (Linear Regression vs Random Forest)\")\n",
    "plt.legend()\n",
    "plt.show()\n"
   ]
  },
  {
   "cell_type": "code",
   "execution_count": null,
   "id": "42f5659a-57ae-4e9f-a8f3-4356de7ec6cb",
   "metadata": {},
   "outputs": [
    {
     "data": {
      "image/png": "[encoded data removed]",
      "text/plain": [
       "<Figure size 576x432 with 1 Axes>"
      ]
     },
     "metadata": {
      "needs_background": "light"
     },
     "output_type": "display_data"
    }
   ],
   "source": [
    "import seaborn as sns\n",
    "\n",
    "\n",
    "residuals_lr = y_test - y_lr_test_prediction\n",
    "residuals_rf = y_test - y_rf_test_pred\n",
    "residuals_svr = y_test - y_svr_test_pred\n",
    "residuals_nn = y_test - y_nn_test_pred\n",
    "\n",
    "plt.figure(figsize=(8, 6))\n",
    "sns.histplot(residuals_lr, bins=30, kde=True, color='blue', label=\"Linear Regression\")\n",
    "sns.histplot(residuals_rf, bins=30, kde=True, color='green', label=\"Random Forest\")\n",
    "sns.histplot(residuals_svr, bins=30, kde=True, color='pink', label=\"Support Vector Regression\")\n",
    "sns.histplot(residuals_nn, bins=30, kde=True, color='yellow', label=\"Neural Network\")\n",
    "plt.axvline(x=0, color='red', linestyle='dashed')\n",
    "plt.xlabel(\"Residual (Error)\")\n",
    "plt.ylabel(\"Frequency\")\n",
    "plt.title(\"Residual Distribution: Linear Regression vs. Random Forest vs. Support Vector Regression vs Neural Network\")\n",
    "plt.legend()\n",
    "plt.show()\n"
   ]
  },
  {
   "cell_type": "code",
   "execution_count": null,
   "id": "b47de165-22d8-4473-bddc-3eb24f8090bc",
   "metadata": {},
   "outputs": [
    {
     "data": {
      "image/png": "[encoded data removed]",
      "text/plain": [
       "<Figure size 576x432 with 1 Axes>"
      ]
     },
     "metadata": {
      "needs_background": "light"
     },
     "output_type": "display_data"
    }
   ],
   "source": [
    "import numpy as np\n",
    "\n",
    "\n",
    "\n",
    "models = [\"Linear Regression\", \"Random Forest\",\"Support Vector\",\"Neural Network\",]\n",
    "train_rmse = [lr_rmse_train, rf_rmse_train,svr_rmse_train,nn_rmse_train]\n",
    "test_rmse = [lr_rmse_test, rf_rmse_test,svr_rmse_test,nn_rmse_test]\n",
    "\n",
    "x = np.arange(len(models))\n",
    "width = 0.35 \n",
    "\n",
    "plt.figure(figsize=(8, 6))\n",
    "plt.bar(x - width/2, train_rmse, width, label=\"Train RMSE\", color='blue')\n",
    "plt.bar(x + width/2, test_rmse, width, label=\"Test RMSE\", color='green')\n",
    "plt.xlabel(\"Model\")\n",
    "plt.ylabel(\"RMSE\")\n",
    "plt.title(\"RMSE Comparison: Linear Regression vs.Support Vector Regression vs. Random Forest vs. Neural Network\")\n",
    "plt.xticks(x, models)\n",
    "plt.legend()\n",
    "plt.show()\n"
   ]
  },
  {
   "cell_type": "markdown",
   "id": "137a20ca-58c0-4bf7-9a0b-9c07d3ca9e60",
   "metadata": {
    "tags": []
   },
   "source": [
    "# Compute Confidence Interval using Bootstrapping"
   ]
  },
  {
   "cell_type": "code",
   "execution_count": null,
   "id": "0aa3f6b3-8bf0-4088-b950-d8d8a0272782",
   "metadata": {},
   "outputs": [
    {
     "name": "stdout",
     "output_type": "stream",
     "text": [
      "Linear Regression RMSE: 17.07, CI: (16.76324532314481, 17.361723763227925)\n",
      "Linear Regression MAE: 14.16, CI: (13.876866989237929, 14.439914961154447)\n",
      "Linear Regression R²: 0.69, CI: (0.6727835054243223, 0.7060124304484248)\n",
      "Random Forest RMSE: 15.07, CI: (14.660263762533381, 15.484050147398706)\n",
      "Random Forest MAE: 11.18, CI: (10.86318282949835, 11.482617114917938)\n",
      "Random Forest R²: 0.76, CI: (0.7421679936162137, 0.7731299127477359)\n",
      "SVR RMSE: 15.11, CI: (14.696424726533234, 15.501625667735482)\n",
      "SVR MAE: 10.55, CI: (10.212671855980906, 10.873575463768637)\n",
      "SVR R²: 0.76, CI: (0.741526189090747, 0.7722234287387344)\n",
      "Neural Network RMSE: 14.48, CI: (14.037899179934996, 14.893249951709194)\n",
      "Neural Network MAE: 10.30, CI: (9.978979015112039, 10.602209833665132)\n",
      "Neural Network R²: 0.78, CI: (0.760713050209781, 0.7922192814915646)\n"
     ]
    }
   ],
   "source": [
    "import numpy as np\n",
    "from sklearn.metrics import mean_squared_error, mean_absolute_error, r2_score\n",
    "\n",
    "def bootstrap_metric(y_true, y_pred, metric_func, n_bootstrap=1000, ci=95, random_state=42):\n",
    "    \"\"\"\n",
    "    Computes bootstrap confidence intervals for the provided regression metric.\n",
    "    \n",
    "    Parameters:\n",
    "    y_true: true target values\n",
    "    y_pred: predicted values\n",
    "    metric_func: function to compute metric (e.g., mean_squared_error)\n",
    "    n_bootstrap: number of bootstrap samples\n",
    "    ci: confidence interval level (default 95%)\n",
    "\n",
    "    Returns:\n",
    "    mean_metric: Mean metric value across bootstraps\n",
    "    (lower_bound, upper_bound): Confidence interval bounds\n",
    "    \"\"\"\n",
    "    n = len(y_true)\n",
    "    rng = np.random.RandomState(random_state)\n",
    "    bootstrap_scores = []\n",
    "    \n",
    "    for _ in range(n_bootstrap):\n",
    "        indices = rng.randint(0, n, n)\n",
    "        y_true_sample = y_true[indices]\n",
    "        y_pred_sample = y_pred[indices]\n",
    "        score = metric_func(y_true_sample, y_pred_sample)\n",
    "        bootstrap_scores.append(score)\n",
    "\n",
    "    lower, upper = np.percentile(bootstrap_scores, [(100-ci)/2, 100 - (100-ci)/2])\n",
    "    mean_metric = np.mean(bootstrap_scores)\n",
    "    return mean_metric, (lower, upper)\n",
    "\n",
    "\n",
    "n_bootstrap = 1000\n",
    "ci = 95\n",
    "\n",
    " \n",
    "\n",
    "models_predictions = {\n",
    "    'Linear Regression': y_lr_test_prediction,\n",
    "    'Random Forest': y_rf_test_pred,\n",
    "    'SVR': y_svr_test_pred,\n",
    "    'Neural Network': y_nn_test_pred\n",
    "}\n",
    "\n",
    "results = {}\n",
    "for model_name, y_pred in models_predictions.items():\n",
    "    rmse_mean, rmse_ci = bootstrap_metric(y_test, y_pred, \n",
    "                                          metric_func=lambda y, y_hat: np.sqrt(mean_squared_error(y, y_hat)),\n",
    "                                          n_bootstrap=n_bootstrap, ci=ci)\n",
    "    \n",
    "    mae_mean, mae_ci = bootstrap_metric(y_test, y_pred, \n",
    "                                         metric_func=mean_absolute_error,\n",
    "                                         n_bootstrap=n_bootstrap, ci=ci)\n",
    "    \n",
    "    r2_mean, r2_ci = bootstrap_metric(y_test, y_pred, \n",
    "                                      metric_func=r2_score,\n",
    "                                      n_bootstrap=n_bootstrap, ci=ci)\n",
    "    \n",
    "    print(f\"{model_name} RMSE: {rmse_mean:.2f}, CI: {rmse_ci}\")\n",
    "    print(f\"{model_name} MAE: {mae_mean:.2f}, CI: {mae_ci}\")\n",
    "    print(f\"{model_name} R²: {r2_mean:.2f}, CI: {r2_ci}\")\n"
   ]
  },
  {
   "cell_type": "code",
   "execution_count": null,
   "id": "7f2757e5-9f10-4ca9-8b93-bcbc7a96d920",
   "metadata": {
    "tags": []
   },
   "outputs": [
    {
     "name": "stdout",
     "output_type": "stream",
     "text": [
      "Comparison Table of Confidence Intervals for Each Model and Metric:\n",
      "                Model Metric       Mean   CI Lower   CI Upper  CI Width\n",
      "0   Linear Regression   RMSE  17.074617  16.763245  17.361724  0.598478\n",
      "1   Linear Regression    MAE  14.164115  13.876867  14.439915  0.563048\n",
      "2   Linear Regression     R2   0.688958   0.672784   0.706012  0.033229\n",
      "3       Random Forest   RMSE  15.071189  14.660264  15.484050  0.823786\n",
      "4       Random Forest    MAE  11.180051  10.863183  11.482617  0.619434\n",
      "5       Random Forest     R2   0.757645   0.742168   0.773130  0.030962\n",
      "6                 SVR   RMSE  15.107341  14.696425  15.501626  0.805201\n",
      "7                 SVR    MAE  10.549439  10.212672  10.873575  0.660904\n",
      "8                 SVR     R2   0.756488   0.741526   0.772223  0.030697\n",
      "9      Neural Network   RMSE  14.475242  14.037899  14.893250  0.855351\n",
      "10     Neural Network    MAE  10.299610   9.978979  10.602210  0.623231\n",
      "11     Neural Network     R2   0.776421   0.760713   0.792219  0.031506\n"
     ]
    },
    {
     "data": {
      "image/png": "[encoded data removed]",
      "text/plain": [
       "<Figure size 1080x432 with 3 Axes>"
      ]
     },
     "metadata": {
      "needs_background": "light"
     },
     "output_type": "display_data"
    }
   ],
   "source": [
    "import numpy as np\n",
    "import pandas as pd\n",
    "import matplotlib.pyplot as plt\n",
    "from sklearn.metrics import mean_squared_error, mean_absolute_error, r2_score\n",
    "\n",
    "def bootstrap_metric(y_true, y_pred, metric_func, n_bootstrap=1000, ci=95, random_state=42):\n",
    "    n = len(y_true)\n",
    "    rng = np.random.RandomState(random_state)\n",
    "    bootstrap_scores = []\n",
    "    \n",
    "    for _ in range(n_bootstrap):\n",
    "        indices = rng.randint(0, n, n)\n",
    "        y_true_sample = y_true[indices]\n",
    "        y_pred_sample = y_pred[indices]\n",
    "        score = metric_func(y_true_sample, y_pred_sample)\n",
    "        bootstrap_scores.append(score)\n",
    "\n",
    "    lower, upper = np.percentile(bootstrap_scores, [(100-ci)/2, 100 - (100-ci)/2])\n",
    "    mean_metric = np.mean(bootstrap_scores)\n",
    "    return mean_metric, (lower, upper)\n",
    "\n",
    "\n",
    "n_bootstrap = 1000\n",
    "ci_level = 95\n",
    "\n",
    "\n",
    "models_predictions = {\n",
    "    'Linear Regression': y_lr_test_prediction,\n",
    "    'Random Forest': y_rf_test_pred,\n",
    "    'SVR': y_svr_test_pred,\n",
    "    'Neural Network': y_nn_test_pred\n",
    "}\n",
    "\n",
    "\n",
    "results = {}\n",
    "table_rows = [] \n",
    "for model_name, y_pred in models_predictions.items():\n",
    "\n",
    "    rmse_mean, rmse_ci = bootstrap_metric(\n",
    "        y_test, y_pred, \n",
    "        metric_func=lambda y, y_hat: np.sqrt(mean_squared_error(y, y_hat)),\n",
    "        n_bootstrap=n_bootstrap, ci=ci_level\n",
    "    )\n",
    "    \n",
    "    mae_mean, mae_ci = bootstrap_metric(\n",
    "        y_test, y_pred, \n",
    "        metric_func=mean_absolute_error,\n",
    "        n_bootstrap=n_bootstrap, ci=ci_level\n",
    "    )\n",
    "    \n",
    "    r2_mean, r2_ci = bootstrap_metric(\n",
    "        y_test, y_pred, \n",
    "        metric_func=r2_score,\n",
    "        n_bootstrap=n_bootstrap, ci=ci_level\n",
    "    )\n",
    "    \n",
    "    results[model_name] = {\n",
    "        'RMSE': {'mean': rmse_mean, 'ci': rmse_ci},\n",
    "        'MAE': {'mean': mae_mean, 'ci': mae_ci},\n",
    "        'R2': {'mean': r2_mean, 'ci': r2_ci},\n",
    "    }\n",
    "    \n",
    "    table_rows.append({\n",
    "        'Model': model_name,\n",
    "        'Metric': 'RMSE',\n",
    "        'Mean': rmse_mean,\n",
    "        'CI Lower': rmse_ci[0],\n",
    "        'CI Upper': rmse_ci[1],\n",
    "        'CI Width': rmse_ci[1] - rmse_ci[0]\n",
    "    })\n",
    "    table_rows.append({\n",
    "        'Model': model_name,\n",
    "        'Metric': 'MAE',\n",
    "        'Mean': mae_mean,\n",
    "        'CI Lower': mae_ci[0],\n",
    "        'CI Upper': mae_ci[1],\n",
    "        'CI Width': mae_ci[1] - mae_ci[0]\n",
    "    })\n",
    "    table_rows.append({\n",
    "        'Model': model_name,\n",
    "        'Metric': 'R2',\n",
    "        'Mean': r2_mean,\n",
    "        'CI Lower': r2_ci[0],\n",
    "        'CI Upper': r2_ci[1],\n",
    "        'CI Width': r2_ci[1] - r2_ci[0]\n",
    "    })\n",
    "\n",
    "\n",
    "df_results = pd.DataFrame(table_rows)\n",
    "print(\"Comparison Table of Confidence Intervals for Each Model and Metric:\")\n",
    "print(df_results)\n",
    "\n",
    "\n",
    "metrics = ['RMSE', 'MAE', 'R2']\n",
    "fig, axes = plt.subplots(1, len(metrics), figsize=(5 * len(metrics), 6), sharey=False)\n",
    "\n",
    "for i, metric in enumerate(metrics):\n",
    "    ax = axes[i]\n",
    "\n",
    "    subset = df_results[df_results['Metric'] == metric]\n",
    "    models = subset['Model'].tolist()\n",
    "    means = subset['Mean'].tolist()\n",
    "    \n",
    "\n",
    "    err_lower = [mean - lower for mean, lower in zip(means, subset['CI Lower'])]\n",
    "    err_upper = [upper - mean for mean, upper in zip(means, subset['CI Upper'])]\n",
    "    \n",
    "    x_positions = np.arange(len(models))\n",
    "    ax.errorbar(x_positions, means, yerr=[err_lower, err_upper], fmt='o', capsize=5, linestyle='None')\n",
    "    ax.set_xticks(x_positions)\n",
    "    ax.set_xticklabels(models, rotation=45)\n",
    "    ax.set_title(metric)\n",
    "    ax.set_xlabel(\"Model\")\n",
    "    ax.set_ylabel(\"Mean Value\")\n",
    "    ax.grid(True)\n",
    "\n",
    "plt.tight_layout()\n",
    "\n",
    "\n",
    "plt.savefig('CI.png', dpi=300) \n",
    "plt.show()"
   ]
  }
 ],
 "metadata": {
  "kernelspec": {
   "display_name": "Python 3",
   "language": "python",
   "name": "python3"
  },
  "language_info": {
   "codemirror_mode": {
    "name": "ipython",
    "version": 3
   },
   "file_extension": ".py",
   "mimetype": "text/x-python",
   "name": "python",
   "nbconvert_exporter": "python",
   "pygments_lexer": "ipython3",
   "version": "3.6.13"
  }
 },
 "nbformat": 4,
 "nbformat_minor": 5
}
